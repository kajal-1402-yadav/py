{
 "cells": [
  {
   "cell_type": "code",
   "execution_count": 5,
   "metadata": {},
   "outputs": [
    {
     "name": "stdout",
     "output_type": "stream",
     "text": [
      "r\n"
     ]
    },
    {
     "ename": "TypeError",
     "evalue": "talk() takes 2 positional arguments but 3 were given",
     "output_type": "error",
     "traceback": [
      "\u001b[1;31m---------------------------------------------------------------------------\u001b[0m",
      "\u001b[1;31mTypeError\u001b[0m                                 Traceback (most recent call last)",
      "\u001b[1;32m<ipython-input-5-128fbfe10667>\u001b[0m in \u001b[0;36m<module>\u001b[1;34m\u001b[0m\n\u001b[0;32m      7\u001b[0m \u001b[0mobj\u001b[0m\u001b[1;33m=\u001b[0m\u001b[0mAnimal\u001b[0m\u001b[1;33m(\u001b[0m\u001b[1;33m)\u001b[0m\u001b[1;33m\u001b[0m\u001b[1;33m\u001b[0m\u001b[0m\n\u001b[0;32m      8\u001b[0m \u001b[0mobj\u001b[0m\u001b[1;33m.\u001b[0m\u001b[0mtalk\u001b[0m\u001b[1;33m(\u001b[0m\u001b[1;36m2\u001b[0m\u001b[1;33m)\u001b[0m\u001b[1;33m\u001b[0m\u001b[1;33m\u001b[0m\u001b[0m\n\u001b[1;32m----> 9\u001b[1;33m \u001b[0mobj\u001b[0m\u001b[1;33m.\u001b[0m\u001b[0mtalk\u001b[0m\u001b[1;33m(\u001b[0m\u001b[1;36m3\u001b[0m\u001b[1;33m,\u001b[0m\u001b[1;36m4\u001b[0m\u001b[1;33m)\u001b[0m\u001b[1;33m\u001b[0m\u001b[1;33m\u001b[0m\u001b[0m\n\u001b[0m",
      "\u001b[1;31mTypeError\u001b[0m: talk() takes 2 positional arguments but 3 were given"
     ]
    }
   ],
   "source": [
    "class Animal:\n",
    "    def talk(self,x,y):\n",
    "        print('q')\n",
    "    def talk(self,x):\n",
    "        print('r')\n",
    "    \n",
    "obj=Animal()\n",
    "obj.talk(2)\n",
    "obj.talk(3,4)"
   ]
  },
  {
   "cell_type": "code",
   "execution_count": 8,
   "metadata": {},
   "outputs": [
    {
     "data": {
      "text/plain": [
       "10"
      ]
     },
     "execution_count": 8,
     "metadata": {},
     "output_type": "execute_result"
    }
   ],
   "source": [
    "class Animals:\n",
    "    def __init__(self,x):\n",
    "        self.x=x\n",
    "        \n",
    "    def __add__(self,other):\n",
    "        return self.x+other.x\n",
    "\n",
    "    \n",
    "obj=Animals(3)\n",
    "obj1=Animals(7)\n",
    "obj+obj1"
   ]
  },
  {
   "cell_type": "code",
   "execution_count": 22,
   "metadata": {},
   "outputs": [
    {
     "name": "stdout",
     "output_type": "stream",
     "text": [
      "59/56\n",
      "11/56\n",
      "15/56\n",
      "35/24\n"
     ]
    }
   ],
   "source": [
    "class fraction:\n",
    "    def __init__(self,x,y):\n",
    "        self.x=x\n",
    "        self.y=y\n",
    "        \n",
    "    def __add__(self,other):\n",
    "        d=self.x*other.y+self.y*other.x\n",
    "        n=self.y*other.y\n",
    "        return '{}/{}'.format(d,n)\n",
    "#         return f'{d}/{n}'\n",
    "\n",
    "    def __sub__(self,other):\n",
    "        d=self.x*other.y-self.y*other.x\n",
    "        n=self.y*other.y\n",
    "        return '{}/{}'.format(d,n)\n",
    "\n",
    "    def __mul__(self,other):\n",
    "        d=self.x*other.x\n",
    "        n=self.y*other.y\n",
    "        return '{}/{}'.format(d,n)\n",
    "    \n",
    "    def __truediv__(self,other):\n",
    "        d=self.x*other.y\n",
    "        n=other.x*self.y\n",
    "        return '{}/{}'.format(d,n)\n",
    "    \n",
    "obj1=fraction(5,8)\n",
    "obj2=fraction(3,7)\n",
    "print(obj1+obj2)\n",
    "print(obj1-obj2)\n",
    "print(obj1*obj2)\n",
    "print(obj1/obj2)"
   ]
  },
  {
   "cell_type": "code",
   "execution_count": null,
   "metadata": {},
   "outputs": [],
   "source": []
  },
  {
   "cell_type": "code",
   "execution_count": null,
   "metadata": {},
   "outputs": [],
   "source": []
  },
  {
   "cell_type": "code",
   "execution_count": null,
   "metadata": {},
   "outputs": [],
   "source": []
  }
 ],
 "metadata": {
  "kernelspec": {
   "display_name": "Python 3",
   "language": "python",
   "name": "python3"
  },
  "language_info": {
   "codemirror_mode": {
    "name": "ipython",
    "version": 3
   },
   "file_extension": ".py",
   "mimetype": "text/x-python",
   "name": "python",
   "nbconvert_exporter": "python",
   "pygments_lexer": "ipython3",
   "version": "3.8.5"
  }
 },
 "nbformat": 4,
 "nbformat_minor": 4
}
