{
 "cells": [
  {
   "cell_type": "code",
   "execution_count": 2,
   "metadata": {},
   "outputs": [
    {
     "name": "stdout",
     "output_type": "stream",
     "text": [
      "<class 'numpy.ndarray'>\n"
     ]
    }
   ],
   "source": [
    "import numpy as np\n",
    "\n",
    "a=np.array([1,2,3,4])\n",
    "print(type(a))"
   ]
  },
  {
   "cell_type": "code",
   "execution_count": 7,
   "metadata": {},
   "outputs": [
    {
     "name": "stdout",
     "output_type": "stream",
     "text": [
      "[1 2 3]\n"
     ]
    }
   ],
   "source": [
    "# a=np.arange(1,0)\n",
    "# a\n",
    "a=np.arange(1,4,1)\n",
    "print(a)"
   ]
  },
  {
   "cell_type": "code",
   "execution_count": 31,
   "metadata": {},
   "outputs": [
    {
     "name": "stdout",
     "output_type": "stream",
     "text": [
      "<class 'numpy.ndarray'>\n",
      "[['1' '2' '3']\n",
      " ['45' '50' '9']]\n"
     ]
    },
    {
     "data": {
      "text/plain": [
       "'45'"
      ]
     },
     "execution_count": 31,
     "metadata": {},
     "output_type": "execute_result"
    }
   ],
   "source": [
    "a=np.array([[1,2,3],[45,50,9]],dtype='str')\n",
    "print(type(a))\n",
    "print(a)\n",
    "a[1,-3]"
   ]
  },
  {
   "cell_type": "code",
   "execution_count": 9,
   "metadata": {},
   "outputs": [
    {
     "data": {
      "text/plain": [
       "array([[ 1,  2,  3],\n",
       "       [ 4,  5,  6],\n",
       "       [ 7,  8,  9],\n",
       "       [10, 11, 12]])"
      ]
     },
     "execution_count": 9,
     "metadata": {},
     "output_type": "execute_result"
    }
   ],
   "source": [
    "a=np.arange(1,13).reshape(4,3)\n",
    "a"
   ]
  },
  {
   "cell_type": "code",
   "execution_count": 44,
   "metadata": {},
   "outputs": [
    {
     "ename": "ValueError",
     "evalue": "operands could not be broadcast together with shapes (4,2) (2,2) ",
     "output_type": "error",
     "traceback": [
      "\u001b[1;31m---------------------------------------------------------------------------\u001b[0m",
      "\u001b[1;31mValueError\u001b[0m                                Traceback (most recent call last)",
      "\u001b[1;32m<ipython-input-44-f12217bc832b>\u001b[0m in \u001b[0;36m<module>\u001b[1;34m\u001b[0m\n\u001b[0;32m     29\u001b[0m \u001b[0ma\u001b[0m\u001b[1;33m=\u001b[0m\u001b[0mnp\u001b[0m\u001b[1;33m.\u001b[0m\u001b[0marange\u001b[0m\u001b[1;33m(\u001b[0m\u001b[1;36m1\u001b[0m\u001b[1;33m,\u001b[0m\u001b[1;36m9\u001b[0m\u001b[1;33m)\u001b[0m\u001b[1;33m.\u001b[0m\u001b[0mreshape\u001b[0m\u001b[1;33m(\u001b[0m\u001b[1;36m4\u001b[0m\u001b[1;33m,\u001b[0m\u001b[1;36m2\u001b[0m\u001b[1;33m)\u001b[0m\u001b[1;33m\u001b[0m\u001b[1;33m\u001b[0m\u001b[0m\n\u001b[0;32m     30\u001b[0m \u001b[0mb\u001b[0m\u001b[1;33m=\u001b[0m\u001b[0mnp\u001b[0m\u001b[1;33m.\u001b[0m\u001b[0marange\u001b[0m\u001b[1;33m(\u001b[0m\u001b[1;36m1\u001b[0m\u001b[1;33m,\u001b[0m\u001b[1;36m5\u001b[0m\u001b[1;33m)\u001b[0m\u001b[1;33m.\u001b[0m\u001b[0mreshape\u001b[0m\u001b[1;33m(\u001b[0m\u001b[1;33m-\u001b[0m\u001b[1;36m1\u001b[0m\u001b[1;33m,\u001b[0m\u001b[1;36m2\u001b[0m\u001b[1;33m)\u001b[0m\u001b[1;33m\u001b[0m\u001b[1;33m\u001b[0m\u001b[0m\n\u001b[1;32m---> 31\u001b[1;33m \u001b[0mprint\u001b[0m\u001b[1;33m(\u001b[0m\u001b[0ma\u001b[0m\u001b[1;33m+\u001b[0m\u001b[0mb\u001b[0m\u001b[1;33m)\u001b[0m\u001b[1;33m\u001b[0m\u001b[1;33m\u001b[0m\u001b[0m\n\u001b[0m\u001b[0;32m     32\u001b[0m \u001b[1;33m\u001b[0m\u001b[0m\n\u001b[0;32m     33\u001b[0m \u001b[1;33m\u001b[0m\u001b[0m\n",
      "\u001b[1;31mValueError\u001b[0m: operands could not be broadcast together with shapes (4,2) (2,2) "
     ]
    }
   ],
   "source": [
    "# a=np.arange(1,13).reshape(4,3)\n",
    "# print(a)\n",
    "# print(a.shape)\n",
    "# b=np.arange(1,4).reshape(-1,3)\n",
    "# print(b)\n",
    "# print(b.shape)\n",
    "# d=np.concatenate((a,b),axis=0)\n",
    "# print(d)\n",
    "# print(d.shape)\n",
    "# e=d[0].shape+a.shape\n",
    "# print(e)\n",
    "\n",
    "\n",
    "# a=np.array(5)\n",
    "# print(a)\n",
    "# b=np.array([5,7,8])\n",
    "# print(b)\n",
    "# print(b+a)\n",
    "\n",
    "\n",
    "# a=np.arange(1,5).reshape(2,2)\n",
    "# b=np.arange(1,3).reshape(-1,2)\n",
    "# print(a+b)\n",
    "\n",
    "# a=np.arange(1,5).reshape(2,2)\n",
    "# b=np.arange(1,3).reshape(2,-1)\n",
    "# print(a+b)\n",
    "\n",
    "a=np.arange(1,9).reshape(4,2)\n",
    "b=np.arange(1,5).reshape(-1,2)\n",
    "print(a+b)\n",
    "\n",
    "\n"
   ]
  },
  {
   "cell_type": "code",
   "execution_count": 11,
   "metadata": {},
   "outputs": [
    {
     "data": {
      "text/plain": [
       "array([[[[ 1],\n",
       "         [ 2]],\n",
       "\n",
       "        [[ 3],\n",
       "         [ 4]],\n",
       "\n",
       "        [[ 5],\n",
       "         [ 6]]],\n",
       "\n",
       "\n",
       "       [[[ 7],\n",
       "         [ 8]],\n",
       "\n",
       "        [[ 9],\n",
       "         [10]],\n",
       "\n",
       "        [[11],\n",
       "         [12]]]])"
      ]
     },
     "execution_count": 11,
     "metadata": {},
     "output_type": "execute_result"
    }
   ],
   "source": [
    "a=np.arange(1,13).reshape(2,3,2,1)\n",
    "a"
   ]
  },
  {
   "cell_type": "code",
   "execution_count": 30,
   "metadata": {},
   "outputs": [
    {
     "name": "stdout",
     "output_type": "stream",
     "text": [
      "[[1 2]\n",
      " [3 4]]\n"
     ]
    },
    {
     "data": {
      "text/plain": [
       "3"
      ]
     },
     "execution_count": 30,
     "metadata": {},
     "output_type": "execute_result"
    }
   ],
   "source": [
    "# a=np.array([1,2,3,4]).reshape(2,2)\n",
    "a=np.array((1,2,3,4)).reshape(2,2)\n",
    "print(a)\n",
    "a[1,-2]"
   ]
  },
  {
   "cell_type": "code",
   "execution_count": 19,
   "metadata": {},
   "outputs": [
    {
     "data": {
      "text/plain": [
       "array([[0.79256058, 0.88742389],\n",
       "       [0.14487625, 0.6955687 ]])"
      ]
     },
     "execution_count": 19,
     "metadata": {},
     "output_type": "execute_result"
    }
   ],
   "source": [
    "a=np.random.random((2,2))\n",
    "a"
   ]
  },
  {
   "cell_type": "code",
   "execution_count": 28,
   "metadata": {},
   "outputs": [
    {
     "data": {
      "text/plain": [
       "5"
      ]
     },
     "execution_count": 28,
     "metadata": {},
     "output_type": "execute_result"
    }
   ],
   "source": [
    "a=np.random.randint(2,10)\n",
    "a"
   ]
  },
  {
   "cell_type": "code",
   "execution_count": 24,
   "metadata": {},
   "outputs": [
    {
     "data": {
      "text/plain": [
       "array([[1., 1., 1., 1.],\n",
       "       [1., 1., 1., 1.],\n",
       "       [1., 1., 1., 1.]])"
      ]
     },
     "execution_count": 24,
     "metadata": {},
     "output_type": "execute_result"
    }
   ],
   "source": [
    "a=np.ones([3,4])\n",
    "a"
   ]
  },
  {
   "cell_type": "code",
   "execution_count": 25,
   "metadata": {},
   "outputs": [
    {
     "data": {
      "text/plain": [
       "array([[0., 0., 0., 0.],\n",
       "       [0., 0., 0., 0.],\n",
       "       [0., 0., 0., 0.]])"
      ]
     },
     "execution_count": 25,
     "metadata": {},
     "output_type": "execute_result"
    }
   ],
   "source": [
    "a=np.zeros([3,4])\n",
    "a"
   ]
  },
  {
   "cell_type": "code",
   "execution_count": 31,
   "metadata": {},
   "outputs": [
    {
     "data": {
      "text/plain": [
       "array([[1., 0., 0., 0., 0.],\n",
       "       [0., 1., 0., 0., 0.],\n",
       "       [0., 0., 1., 0., 0.],\n",
       "       [0., 0., 0., 1., 0.],\n",
       "       [0., 0., 0., 0., 1.]])"
      ]
     },
     "execution_count": 31,
     "metadata": {},
     "output_type": "execute_result"
    }
   ],
   "source": [
    "a=np.identity(5)\n",
    "a"
   ]
  },
  {
   "cell_type": "code",
   "execution_count": 34,
   "metadata": {},
   "outputs": [
    {
     "data": {
      "text/plain": [
       "array([4.   , 4.125, 4.25 , 4.375, 4.5  , 4.625, 4.75 , 4.875, 5.   ])"
      ]
     },
     "execution_count": 34,
     "metadata": {},
     "output_type": "execute_result"
    }
   ],
   "source": [
    "a=np.linspace(4,5,9)\n",
    "a"
   ]
  },
  {
   "cell_type": "code",
   "execution_count": 35,
   "metadata": {},
   "outputs": [
    {
     "data": {
      "text/plain": [
       "array([-100,  -78,  -56,  -34,  -12,   11,   33,   55,   77,  100])"
      ]
     },
     "execution_count": 35,
     "metadata": {},
     "output_type": "execute_result"
    }
   ],
   "source": [
    "a=np.linspace(-100,100,10,dtype=int)\n",
    "a"
   ]
  },
  {
   "cell_type": "code",
   "execution_count": 63,
   "metadata": {},
   "outputs": [
    {
     "name": "stdout",
     "output_type": "stream",
     "text": [
      "[ 1  2  3  4  5  6  7  8  9 10 11 12]\n",
      "[[ 1  2  3]\n",
      " [ 4  5  6]\n",
      " [ 7  8  9]\n",
      " [10 11 12]]\n",
      "[[[ 1  2  3]\n",
      "  [ 4  5  6]]\n",
      "\n",
      " [[ 7  8  9]\n",
      "  [10 11 12]]]\n",
      "1\n",
      "(4, 3)\n",
      "12\n",
      "int32\n",
      "5\n",
      "6\n",
      "[ 1  3  5  7  9 11]\n",
      "[ 8  9 10]\n",
      "6\n",
      "8\n"
     ]
    },
    {
     "data": {
      "text/plain": [
       "array([[1, 2, 3],\n",
       "       [7, 8, 9]])"
      ]
     },
     "execution_count": 63,
     "metadata": {},
     "output_type": "execute_result"
    }
   ],
   "source": [
    "a=np.arange(1,13)\n",
    "b=np.arange(1,13).reshape(4,3)\n",
    "c=np.arange(1,13).reshape(2,2,3)\n",
    "print(a)\n",
    "print(b)\n",
    "print(c)\n",
    "print(a.ndim)\n",
    "print(b.shape)\n",
    "print(a.size)\n",
    "print(a.dtype)\n",
    "print(b[0].shape[0]+c[0].shape[0])\n",
    "print(b[0].shape[0]+c[1].shape[1])\n",
    "print(a[a%2!=0])\n",
    "print(a[[7,8,9]])\n",
    "print(b[1,2])\n",
    "print(b[-2,-2])\n"
   ]
  },
  {
   "cell_type": "code",
   "execution_count": 17,
   "metadata": {},
   "outputs": [
    {
     "name": "stdout",
     "output_type": "stream",
     "text": [
      "[[[ 1  2  3]\n",
      "  [ 4  5  6]]\n",
      "\n",
      " [[ 7  8  9]\n",
      "  [10 11 12]]]\n",
      "[[1 2 3]\n",
      " [7 8 9]]\n"
     ]
    }
   ],
   "source": [
    "# b=np.arange(1,13).reshape(3,4)\n",
    "# print(b)\n",
    "# c = np.array([b[0][0], b[0][b.shape[1]-1], b[2][0], b[2][b.shape[1]-1]]).reshape(2, 2)\n",
    "# print(c)\n",
    "# b[::-1,::-1]\n",
    "d=np.arange(1,13).reshape(2,2,3)\n",
    "print(d)\n",
    "print(d[:,0,:])"
   ]
  },
  {
   "cell_type": "code",
   "execution_count": 58,
   "metadata": {},
   "outputs": [
    {
     "name": "stdout",
     "output_type": "stream",
     "text": [
      "[[57 91 81 22]\n",
      " [18 71 86 94]\n",
      " [59  1 60  2]]\n",
      "[[18  1 60  2]\n",
      " [57 71 81 22]\n",
      " [59 91 86 94]]\n",
      "[[22 57 81 91]\n",
      " [18 71 86 94]\n",
      " [ 1  2 59 60]]\n"
     ]
    }
   ],
   "source": [
    "a=np.random.randint(1,100,size=(3,4))\n",
    "# print(a)\n",
    "# print(np.min(a,axis=0))\n",
    "# print(np.min(a,axis=1))\n",
    "# max=a[1][0]\n",
    "# for i in a[1]:\n",
    "#     if i>max:\n",
    "#         max=i\n",
    "# print(max)\n",
    "print(a)\n",
    "print(np.sort(a,axis=0))\n",
    "print(np.sort(a,axis=1))"
   ]
  },
  {
   "cell_type": "code",
   "execution_count": 76,
   "metadata": {},
   "outputs": [
    {
     "name": "stdout",
     "output_type": "stream",
     "text": [
      "[[57 91 81 22]\n",
      " [18 71 86 94]\n",
      " [59  1 60  2]]\n",
      "[81 86 60]\n"
     ]
    },
    {
     "data": {
      "text/plain": [
       "array([[59,  1, 60,  2],\n",
       "       [57, 91, 81, 22],\n",
       "       [18, 71, 86, 94]])"
      ]
     },
     "execution_count": 76,
     "metadata": {},
     "output_type": "execute_result"
    }
   ],
   "source": [
    "print(a)\n",
    "# b=list(a)\n",
    "# b.sort(key=lambda x:x[-1])\n",
    "# d=np.array(b)\n",
    "# print(d)\n",
    "print(a[:,-2])\n",
    "a[np.argsort(a[:,-2])]\n"
   ]
  },
  {
   "cell_type": "code",
   "execution_count": 13,
   "metadata": {},
   "outputs": [
    {
     "name": "stdout",
     "output_type": "stream",
     "text": [
      "[[1 2 3]\n",
      " [4 5 6]\n",
      " [7 8 9]]\n",
      "\n",
      "[[1]\n",
      " [2]\n",
      " [3]]\n",
      "\n",
      "[[1 2 3]\n",
      " [4 5 6]\n",
      " [7 8 9]]\n",
      "\n",
      "[[1 2 3]]\n",
      "\n",
      "[[1 2 3 1]\n",
      " [4 5 6 2]\n",
      " [7 8 9 3]]\n",
      "\n",
      "[[1 2 3]\n",
      " [4 5 6]\n",
      " [7 8 9]\n",
      " [1 2 3]]\n"
     ]
    }
   ],
   "source": [
    "a=np.arange(1,10).reshape(3,3)\n",
    "b=np.arange(1,4).reshape(3,1)\n",
    "x=np.arange(1,10).reshape(3,3)\n",
    "y=np.arange(1,4).reshape(1,3)\n",
    "d = np.concatenate((a, b), axis=1)\n",
    "e=np.concatenate((x,y),axis=0)\n",
    "print(a)\n",
    "print()\n",
    "print(b)\n",
    "print()\n",
    "print(x)\n",
    "print()\n",
    "print(y)\n",
    "print()\n",
    "print(d)\n",
    "print()\n",
    "print(e)"
   ]
  },
  {
   "cell_type": "code",
   "execution_count": 77,
   "metadata": {},
   "outputs": [
    {
     "data": {
      "text/plain": [
       "313"
      ]
     },
     "execution_count": 77,
     "metadata": {},
     "output_type": "execute_result"
    }
   ],
   "source": [
    "64+54+73+74+48"
   ]
  },
  {
   "cell_type": "code",
   "execution_count": 10,
   "metadata": {},
   "outputs": [
    {
     "name": "stdout",
     "output_type": "stream",
     "text": [
      "[[10  5  3  3]\n",
      " [11 11  1 10]\n",
      " [10  3  4  4]]\n"
     ]
    },
    {
     "data": {
      "text/plain": [
       "array([[1, 0, 0, 0],\n",
       "       [1, 1, 0, 1],\n",
       "       [1, 0, 0, 0]])"
      ]
     },
     "execution_count": 10,
     "metadata": {},
     "output_type": "execute_result"
    }
   ],
   "source": [
    "a=np.random.randint(1,13,size=(3,4))\n",
    "print(a)\n",
    "np.where(a>5,1,0)"
   ]
  },
  {
   "cell_type": "code",
   "execution_count": 15,
   "metadata": {},
   "outputs": [
    {
     "data": {
      "text/plain": [
       "array([[0, 0, 1],\n",
       "       [1, 1, 1],\n",
       "       [1, 1, 1]])"
      ]
     },
     "execution_count": 15,
     "metadata": {},
     "output_type": "execute_result"
    }
   ],
   "source": [
    "np.where(a>2,1,np.where(a>5,2,0))\n"
   ]
  },
  {
   "cell_type": "code",
   "execution_count": 25,
   "metadata": {},
   "outputs": [
    {
     "ename": "ValueError",
     "evalue": "cannot reshape array of size 13 into shape (3,newaxis)",
     "output_type": "error",
     "traceback": [
      "\u001b[1;31m---------------------------------------------------------------------------\u001b[0m",
      "\u001b[1;31mValueError\u001b[0m                                Traceback (most recent call last)",
      "\u001b[1;32m<ipython-input-25-c36c73beb0d6>\u001b[0m in \u001b[0;36m<module>\u001b[1;34m\u001b[0m\n\u001b[1;32m----> 1\u001b[1;33m \u001b[0mnp\u001b[0m\u001b[1;33m.\u001b[0m\u001b[0marange\u001b[0m\u001b[1;33m(\u001b[0m\u001b[1;36m13\u001b[0m\u001b[1;33m)\u001b[0m\u001b[1;33m.\u001b[0m\u001b[0mreshape\u001b[0m\u001b[1;33m(\u001b[0m\u001b[1;36m3\u001b[0m\u001b[1;33m,\u001b[0m\u001b[1;33m-\u001b[0m\u001b[1;36m3\u001b[0m\u001b[1;33m)\u001b[0m\u001b[1;33m\u001b[0m\u001b[1;33m\u001b[0m\u001b[0m\n\u001b[0m",
      "\u001b[1;31mValueError\u001b[0m: cannot reshape array of size 13 into shape (3,newaxis)"
     ]
    }
   ],
   "source": [
    "np.arange(6).reshape(3,-1)"
   ]
  },
  {
   "cell_type": "code",
   "execution_count": 26,
   "metadata": {},
   "outputs": [
    {
     "name": "stdout",
     "output_type": "stream",
     "text": [
      "8000\n"
     ]
    }
   ],
   "source": [
    "class A:\n",
    "    m=5000\n",
    "    def __init__(self):\n",
    "        self.m+=A.m\n",
    "        \n",
    "class b(A):\n",
    "    m=1000\n",
    "    def display(self):\n",
    "        self.m+=2000\n",
    "        print(self.m)\n",
    "o=b()\n",
    "o.display()"
   ]
  },
  {
   "cell_type": "code",
   "execution_count": 27,
   "metadata": {},
   "outputs": [
    {
     "name": "stdout",
     "output_type": "stream",
     "text": [
      "40\n"
     ]
    }
   ],
   "source": [
    "class A:\n",
    "    a=20\n",
    "    def __init__(self):\n",
    "        self.a+=10\n",
    "        \n",
    "class b(A):\n",
    "    a=15\n",
    "    def buy(self):\n",
    "        pass\n",
    "class C(b,A):\n",
    "    a=30\n",
    "    def buy(self):\n",
    "        print(self.a)\n",
    "o=C()\n",
    "o.buy()"
   ]
  },
  {
   "cell_type": "code",
   "execution_count": 9,
   "metadata": {},
   "outputs": [
    {
     "name": "stdout",
     "output_type": "stream",
     "text": [
      "[ 1  2  3  4  5  6  7  8  9 10 11 12]\n",
      "[array([1, 2, 3, 4]), array([5, 6, 7, 8]), array([ 9, 10, 11, 12])]\n",
      "[array([1, 2]), array([3, 4]), array([5, 6]), array([7, 8]), array([ 9, 10]), array([11]), array([12])]\n",
      "[array([1]), array([2]), array([3]), array([4]), array([5]), array([6]), array([7]), array([8]), array([9]), array([10]), array([11]), array([12]), array([], dtype=int32), array([], dtype=int32), array([], dtype=int32)]\n"
     ]
    }
   ],
   "source": [
    "a=np.arange(1,13)\n",
    "print(a)\n",
    "print(np.array_split(a,3))\n",
    "print(np.array_split(a,7))\n",
    "print(np.array_split(a,15))"
   ]
  },
  {
   "cell_type": "code",
   "execution_count": 19,
   "metadata": {},
   "outputs": [
    {
     "name": "stdout",
     "output_type": "stream",
     "text": [
      "[[ 1  2  3  4]\n",
      " [ 5  6  7  8]\n",
      " [ 9 10 11 12]]\n",
      "[array([[ 1,  2],\n",
      "       [ 5,  6],\n",
      "       [ 9, 10]]), array([[ 3],\n",
      "       [ 7],\n",
      "       [11]]), array([[ 4],\n",
      "       [ 8],\n",
      "       [12]])]\n",
      "[array([[1, 2, 3, 4],\n",
      "       [5, 6, 7, 8]]), array([[ 9, 10, 11, 12]])]\n"
     ]
    }
   ],
   "source": [
    "a=np.arange(1,13).reshape(3,4)\n",
    "print(a)\n",
    "print(np.array_split(a,3,axis=1))\n",
    "print(np.array_split(a,2,axis=0))"
   ]
  },
  {
   "cell_type": "code",
   "execution_count": 38,
   "metadata": {},
   "outputs": [
    {
     "name": "stdout",
     "output_type": "stream",
     "text": [
      "[[ 1  2  3  4]\n",
      " [ 5  6  7  8]\n",
      " [ 9 10 11 12]]\n",
      "[[ 5  6  7  8]\n",
      " [ 9 10 11 12]\n",
      " [13 14 15 16]]\n",
      "add(a,b):\n",
      "[[ 6  8 10 12]\n",
      " [14 16 18 20]\n",
      " [22 24 26 28]]\n",
      "sub(a,b):\n",
      "[[ 6  8 10 12]\n",
      " [14 16 18 20]\n",
      " [22 24 26 28]]\n",
      "mul(x,y):\n",
      "[[110 120 130]\n",
      " [262 288 314]\n",
      " [414 456 498]]\n",
      "transpose(a):\n",
      "[[ 1  5  9]\n",
      " [ 2  6 10]\n",
      " [ 3  7 11]\n",
      " [ 4  8 12]]\n"
     ]
    }
   ],
   "source": [
    "class Matrix:\n",
    "    def __init__(self,arr):\n",
    "        self.arr=arr\n",
    "    def __add__(self,other):\n",
    "        return self.arr+other.arr\n",
    "    def __sub__(self,other):\n",
    "        return self.arr+other.arr\n",
    "    def __mul__(self,other):\n",
    "        return np.dot(self.arr,other.arr)\n",
    "    def transpose(self):\n",
    "        return self.arr.T\n",
    "    \n",
    "a=np.arange(1,13).reshape(3,4)\n",
    "b=np.arange(5,17).reshape(3,4)\n",
    "x=np.arange(1,13).reshape(3,4)\n",
    "y=np.arange(5,17).reshape(4,3)\n",
    "print(a)\n",
    "print(b)\n",
    "obj1=Matrix(a)\n",
    "obj2=Matrix(b)\n",
    "obj3=Matrix(x)\n",
    "obj4=Matrix(y)\n",
    "print(\"add(a,b):\")\n",
    "print(obj1+obj2)\n",
    "print(\"sub(a,b):\")\n",
    "print(obj1-obj2)\n",
    "print(\"mul(x,y):\")\n",
    "print(obj3*obj4)\n",
    "print(\"transpose(a):\")\n",
    "print(obj1.transpose())"
   ]
  },
  {
   "cell_type": "code",
   "execution_count": null,
   "metadata": {},
   "outputs": [],
   "source": []
  },
  {
   "cell_type": "code",
   "execution_count": null,
   "metadata": {},
   "outputs": [],
   "source": []
  },
  {
   "cell_type": "code",
   "execution_count": null,
   "metadata": {},
   "outputs": [],
   "source": []
  }
 ],
 "metadata": {
  "kernelspec": {
   "display_name": "Python 3",
   "language": "python",
   "name": "python3"
  },
  "language_info": {
   "codemirror_mode": {
    "name": "ipython",
    "version": 3
   },
   "file_extension": ".py",
   "mimetype": "text/x-python",
   "name": "python",
   "nbconvert_exporter": "python",
   "pygments_lexer": "ipython3",
   "version": "3.8.5"
  }
 },
 "nbformat": 4,
 "nbformat_minor": 4
}
