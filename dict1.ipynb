{
 "cells": [
  {
   "cell_type": "code",
   "execution_count": 7,
   "metadata": {},
   "outputs": [
    {
     "name": "stdout",
     "output_type": "stream",
     "text": [
      "18\n",
      "XVIII\n"
     ]
    }
   ],
   "source": [
    "n=int(input())\n",
    "ones={1:'I',2:'II',3:'III',4:'IV',5:'V',6:'VI',7:'VII',8:'VIII',9:'IX',10:'X',\n",
    "      20: \"XX\", 30: \"XXX\", 40: \"XL\", 50: \"L\", 60: \"LX\", 70: \"LXX\", 80: \"LXXX\", 90: \"XC\",\n",
    "     100:'C',200:'CC',300:'CCC',400:'CD',500:'D',600:'DC',700:'DCC',800:'DCCC',900:'CM',1000:'M'}\n",
    "word=\"\"\n",
    "if n==1000:\n",
    "    word=ones[n]\n",
    "if n<1000 and n>100:\n",
    "    word+=ones[(n//100)*100]\n",
    "    n=n%100\n",
    "if n<100 and n>10:\n",
    "    word+=ones[(n//10)*10]\n",
    "    n=n%10   \n",
    "if n<10:\n",
    "    word+=ones[n]\n",
    "print(word)"
   ]
  },
  {
   "cell_type": "code",
   "execution_count": 10,
   "metadata": {},
   "outputs": [
    {
     "name": "stdout",
     "output_type": "stream",
     "text": [
      "CDXCIV\n",
      "494\n"
     ]
    }
   ],
   "source": [
    "n=input()\n",
    "d={'I':1,'V':5,'X':10,'L':50,'C':100,'D':500,'M':1000}\n",
    "sum=0\n",
    "for i in range(0,len(n)-1):\n",
    "    if d[n[i]]<d[n[i+1]]:\n",
    "        sum-=d[n[i]]\n",
    "    else:\n",
    "        sum+=d[n[i]]\n",
    "sum+=d[n[-1]]\n",
    "print(sum)    \n",
    "        \n",
    "     "
   ]
  },
  {
   "cell_type": "code",
   "execution_count": 36,
   "metadata": {},
   "outputs": [
    {
     "name": "stdout",
     "output_type": "stream",
     "text": [
      "[1, 5, 10, 50, 100, 500, 1000]\n",
      "{'M': 1000, 'D': 500, 'C': 100, 'L': 50, 'X': 10, 'V': 5, 'I': 1}\n"
     ]
    }
   ],
   "source": [
    "d={'I':1,'V':5,'X':10,'L':50,'C':100,'D':500,'M':1000}\n",
    "l1=[] \n",
    "for i in d.values():\n",
    "    l1.append(i)\n",
    "print(l1)    \n",
    "    \n",
    "l1=sorted(l1,reverse=True)\n",
    "d1={}\n",
    "for i in l1:\n",
    "    for j in d:\n",
    "        if d[j]==i:\n",
    "            d1.update({j:i})\n",
    "print(d1)           "
   ]
  },
  {
   "cell_type": "code",
   "execution_count": null,
   "metadata": {},
   "outputs": [],
   "source": []
  }
 ],
 "metadata": {
  "kernelspec": {
   "display_name": "Python 3",
   "language": "python",
   "name": "python3"
  },
  "language_info": {
   "codemirror_mode": {
    "name": "ipython",
    "version": 3
   },
   "file_extension": ".py",
   "mimetype": "text/x-python",
   "name": "python",
   "nbconvert_exporter": "python",
   "pygments_lexer": "ipython3",
   "version": "3.8.5"
  }
 },
 "nbformat": 4,
 "nbformat_minor": 4
}
