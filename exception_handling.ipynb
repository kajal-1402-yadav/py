{
 "cells": [
  {
   "cell_type": "code",
   "execution_count": 3,
   "metadata": {},
   "outputs": [
    {
     "ename": "OverflowError",
     "evalue": "math range error",
     "output_type": "error",
     "traceback": [
      "\u001b[1;31m---------------------------------------------------------------------------\u001b[0m",
      "\u001b[1;31mOverflowError\u001b[0m                             Traceback (most recent call last)",
      "\u001b[1;32m<ipython-input-3-31519c491d10>\u001b[0m in \u001b[0;36m<module>\u001b[1;34m\u001b[0m\n\u001b[0;32m      1\u001b[0m \u001b[1;32mimport\u001b[0m \u001b[0mmath\u001b[0m\u001b[1;33m\u001b[0m\u001b[1;33m\u001b[0m\u001b[0m\n\u001b[1;32m----> 2\u001b[1;33m \u001b[0mmath\u001b[0m\u001b[1;33m.\u001b[0m\u001b[0mexp\u001b[0m\u001b[1;33m(\u001b[0m\u001b[1;36m1000\u001b[0m\u001b[1;33m)\u001b[0m\u001b[1;33m\u001b[0m\u001b[1;33m\u001b[0m\u001b[0m\n\u001b[0m",
      "\u001b[1;31mOverflowError\u001b[0m: math range error"
     ]
    }
   ],
   "source": [
    "# import math\n",
    "# math.exp(1000)#arithmatic---overflow"
   ]
  },
  {
   "cell_type": "code",
   "execution_count": 4,
   "metadata": {},
   "outputs": [
    {
     "ename": "AttributeError",
     "evalue": "'list' object has no attribute 'upper'",
     "output_type": "error",
     "traceback": [
      "\u001b[1;31m---------------------------------------------------------------------------\u001b[0m",
      "\u001b[1;31mAttributeError\u001b[0m                            Traceback (most recent call last)",
      "\u001b[1;32m<ipython-input-4-86cba3e13c2e>\u001b[0m in \u001b[0;36m<module>\u001b[1;34m\u001b[0m\n\u001b[0;32m      1\u001b[0m \u001b[0ml\u001b[0m\u001b[1;33m=\u001b[0m\u001b[1;33m[\u001b[0m\u001b[1;34m'kajal'\u001b[0m\u001b[1;33m,\u001b[0m\u001b[1;34m'yadav'\u001b[0m\u001b[1;33m]\u001b[0m\u001b[1;33m\u001b[0m\u001b[1;33m\u001b[0m\u001b[0m\n\u001b[1;32m----> 2\u001b[1;33m \u001b[0ml\u001b[0m\u001b[1;33m.\u001b[0m\u001b[0mupper\u001b[0m\u001b[1;33m\u001b[0m\u001b[1;33m\u001b[0m\u001b[0m\n\u001b[0m",
      "\u001b[1;31mAttributeError\u001b[0m: 'list' object has no attribute 'upper'"
     ]
    }
   ],
   "source": [
    "l=['kajal','yadav']\n",
    "l.upper"
   ]
  },
  {
   "cell_type": "code",
   "execution_count": 5,
   "metadata": {},
   "outputs": [
    {
     "ename": "ZeroDivisionError",
     "evalue": "division by zero",
     "output_type": "error",
     "traceback": [
      "\u001b[1;31m---------------------------------------------------------------------------\u001b[0m",
      "\u001b[1;31mZeroDivisionError\u001b[0m                         Traceback (most recent call last)",
      "\u001b[1;32m<ipython-input-5-9e1622b385b6>\u001b[0m in \u001b[0;36m<module>\u001b[1;34m\u001b[0m\n\u001b[1;32m----> 1\u001b[1;33m \u001b[1;36m1\u001b[0m\u001b[1;33m/\u001b[0m\u001b[1;36m0\u001b[0m\u001b[1;33m\u001b[0m\u001b[1;33m\u001b[0m\u001b[0m\n\u001b[0m",
      "\u001b[1;31mZeroDivisionError\u001b[0m: division by zero"
     ]
    }
   ],
   "source": [
    "1/0\n"
   ]
  },
  {
   "cell_type": "code",
   "execution_count": 6,
   "metadata": {},
   "outputs": [
    {
     "ename": "NameError",
     "evalue": "name 'a' is not defined",
     "output_type": "error",
     "traceback": [
      "\u001b[1;31m---------------------------------------------------------------------------\u001b[0m",
      "\u001b[1;31mNameError\u001b[0m                                 Traceback (most recent call last)",
      "\u001b[1;32m<ipython-input-6-bca0e2660b9f>\u001b[0m in \u001b[0;36m<module>\u001b[1;34m\u001b[0m\n\u001b[1;32m----> 1\u001b[1;33m \u001b[0mprint\u001b[0m\u001b[1;33m(\u001b[0m\u001b[0ma\u001b[0m\u001b[1;33m)\u001b[0m\u001b[1;33m\u001b[0m\u001b[1;33m\u001b[0m\u001b[0m\n\u001b[0m",
      "\u001b[1;31mNameError\u001b[0m: name 'a' is not defined"
     ]
    }
   ],
   "source": [
    "print(a)"
   ]
  },
  {
   "cell_type": "code",
   "execution_count": 10,
   "metadata": {},
   "outputs": [
    {
     "ename": "TypeError",
     "evalue": "can only concatenate str (not \"int\") to str",
     "output_type": "error",
     "traceback": [
      "\u001b[1;31m---------------------------------------------------------------------------\u001b[0m",
      "\u001b[1;31mTypeError\u001b[0m                                 Traceback (most recent call last)",
      "\u001b[1;32m<ipython-input-10-b4d433227e2d>\u001b[0m in \u001b[0;36m<module>\u001b[1;34m\u001b[0m\n\u001b[0;32m      2\u001b[0m \u001b[0ma\u001b[0m\u001b[1;33m=\u001b[0m\u001b[1;36m1\u001b[0m\u001b[1;33m\u001b[0m\u001b[1;33m\u001b[0m\u001b[0m\n\u001b[0;32m      3\u001b[0m \u001b[0mb\u001b[0m\u001b[1;33m=\u001b[0m\u001b[1;36m0\u001b[0m\u001b[1;33m\u001b[0m\u001b[1;33m\u001b[0m\u001b[0m\n\u001b[1;32m----> 4\u001b[1;33m \u001b[0mc\u001b[0m\u001b[1;33m+\u001b[0m\u001b[0ma\u001b[0m\u001b[1;33m-\u001b[0m\u001b[0mb\u001b[0m\u001b[1;33m\u001b[0m\u001b[1;33m\u001b[0m\u001b[0m\n\u001b[0m",
      "\u001b[1;31mTypeError\u001b[0m: can only concatenate str (not \"int\") to str"
     ]
    }
   ],
   "source": [
    "c='1'\n",
    "a=1\n",
    "b=0\n",
    "c+a/b"
   ]
  },
  {
   "cell_type": "code",
   "execution_count": 11,
   "metadata": {},
   "outputs": [
    {
     "ename": "TypeError",
     "evalue": "can only concatenate str (not \"int\") to str",
     "output_type": "error",
     "traceback": [
      "\u001b[1;31m---------------------------------------------------------------------------\u001b[0m",
      "\u001b[1;31mTypeError\u001b[0m                                 Traceback (most recent call last)",
      "\u001b[1;32m<ipython-input-11-b4d433227e2d>\u001b[0m in \u001b[0;36m<module>\u001b[1;34m\u001b[0m\n\u001b[0;32m      2\u001b[0m \u001b[0ma\u001b[0m\u001b[1;33m=\u001b[0m\u001b[1;36m1\u001b[0m\u001b[1;33m\u001b[0m\u001b[1;33m\u001b[0m\u001b[0m\n\u001b[0;32m      3\u001b[0m \u001b[0mb\u001b[0m\u001b[1;33m=\u001b[0m\u001b[1;36m0\u001b[0m\u001b[1;33m\u001b[0m\u001b[1;33m\u001b[0m\u001b[0m\n\u001b[1;32m----> 4\u001b[1;33m \u001b[0mc\u001b[0m\u001b[1;33m+\u001b[0m\u001b[0ma\u001b[0m\u001b[1;33m-\u001b[0m\u001b[0mb\u001b[0m\u001b[1;33m\u001b[0m\u001b[1;33m\u001b[0m\u001b[0m\n\u001b[0m",
      "\u001b[1;31mTypeError\u001b[0m: can only concatenate str (not \"int\") to str"
     ]
    }
   ],
   "source": [
    "c='1'\n",
    "a=1\n",
    "b=0\n",
    "c+a-b"
   ]
  },
  {
   "cell_type": "code",
   "execution_count": 18,
   "metadata": {},
   "outputs": [
    {
     "ename": "ModuleNotFoundError",
     "evalue": "No module named 'cal'",
     "output_type": "error",
     "traceback": [
      "\u001b[1;31m---------------------------------------------------------------------------\u001b[0m",
      "\u001b[1;31mModuleNotFoundError\u001b[0m                       Traceback (most recent call last)",
      "\u001b[1;32m<ipython-input-18-25df11637961>\u001b[0m in \u001b[0;36m<module>\u001b[1;34m\u001b[0m\n\u001b[1;32m----> 1\u001b[1;33m \u001b[1;32mimport\u001b[0m \u001b[0mcal\u001b[0m\u001b[1;33m\u001b[0m\u001b[1;33m\u001b[0m\u001b[0m\n\u001b[0m",
      "\u001b[1;31mModuleNotFoundError\u001b[0m: No module named 'cal'"
     ]
    }
   ],
   "source": [
    "import cal\n"
   ]
  },
  {
   "cell_type": "code",
   "execution_count": 19,
   "metadata": {},
   "outputs": [
    {
     "ename": "IndexError",
     "evalue": "string index out of range",
     "output_type": "error",
     "traceback": [
      "\u001b[1;31m---------------------------------------------------------------------------\u001b[0m",
      "\u001b[1;31mIndexError\u001b[0m                                Traceback (most recent call last)",
      "\u001b[1;32m<ipython-input-19-3b663f344095>\u001b[0m in \u001b[0;36m<module>\u001b[1;34m\u001b[0m\n\u001b[0;32m      1\u001b[0m \u001b[0ms\u001b[0m\u001b[1;33m=\u001b[0m\u001b[1;34m'vishal'\u001b[0m\u001b[1;33m\u001b[0m\u001b[1;33m\u001b[0m\u001b[0m\n\u001b[1;32m----> 2\u001b[1;33m \u001b[0ms\u001b[0m\u001b[1;33m[\u001b[0m\u001b[1;36m10\u001b[0m\u001b[1;33m]\u001b[0m\u001b[1;33m\u001b[0m\u001b[1;33m\u001b[0m\u001b[0m\n\u001b[0m",
      "\u001b[1;31mIndexError\u001b[0m: string index out of range"
     ]
    }
   ],
   "source": [
    "s='vishal'\n",
    "s[10]"
   ]
  },
  {
   "cell_type": "code",
   "execution_count": 20,
   "metadata": {},
   "outputs": [
    {
     "ename": "SyntaxError",
     "evalue": "invalid syntax (<ipython-input-20-8134c25da9a8>, line 3)",
     "output_type": "error",
     "traceback": [
      "\u001b[1;36m  File \u001b[1;32m\"<ipython-input-20-8134c25da9a8>\"\u001b[1;36m, line \u001b[1;32m3\u001b[0m\n\u001b[1;33m    print(a+=b)\u001b[0m\n\u001b[1;37m           ^\u001b[0m\n\u001b[1;31mSyntaxError\u001b[0m\u001b[1;31m:\u001b[0m invalid syntax\n"
     ]
    }
   ],
   "source": [
    "a=5\n",
    "b=7\n",
    "print(a+=b)"
   ]
  },
  {
   "cell_type": "code",
   "execution_count": 21,
   "metadata": {},
   "outputs": [
    {
     "ename": "KeyError",
     "evalue": "'c'",
     "output_type": "error",
     "traceback": [
      "\u001b[1;31m---------------------------------------------------------------------------\u001b[0m",
      "\u001b[1;31mKeyError\u001b[0m                                  Traceback (most recent call last)",
      "\u001b[1;32m<ipython-input-21-a466f333440d>\u001b[0m in \u001b[0;36m<module>\u001b[1;34m\u001b[0m\n\u001b[0;32m      1\u001b[0m \u001b[0md\u001b[0m\u001b[1;33m=\u001b[0m\u001b[1;33m{\u001b[0m\u001b[1;34m'a'\u001b[0m\u001b[1;33m:\u001b[0m\u001b[1;36m1\u001b[0m\u001b[1;33m,\u001b[0m\u001b[1;34m\"b\"\u001b[0m\u001b[1;33m:\u001b[0m\u001b[1;36m2\u001b[0m\u001b[1;33m}\u001b[0m\u001b[1;33m\u001b[0m\u001b[1;33m\u001b[0m\u001b[0m\n\u001b[1;32m----> 2\u001b[1;33m \u001b[0md\u001b[0m\u001b[1;33m[\u001b[0m\u001b[1;34m'c'\u001b[0m\u001b[1;33m]\u001b[0m\u001b[1;33m\u001b[0m\u001b[1;33m\u001b[0m\u001b[0m\n\u001b[0m",
      "\u001b[1;31mKeyError\u001b[0m: 'c'"
     ]
    }
   ],
   "source": [
    "d={'a':1,\"b\":2}\n",
    "d['c']"
   ]
  },
  {
   "cell_type": "code",
   "execution_count": 26,
   "metadata": {},
   "outputs": [
    {
     "name": "stdout",
     "output_type": "stream",
     "text": [
      "0\n",
      "printed\n"
     ]
    }
   ],
   "source": [
    "try:\n",
    "    a=5\n",
    "    b=0\n",
    "    c=a*b\n",
    "except:\n",
    "    print(\"ZDE\")\n",
    "else:\n",
    "    print(c)\n",
    "finally:\n",
    "    print(\"printed\")"
   ]
  },
  {
   "cell_type": "code",
   "execution_count": 32,
   "metadata": {},
   "outputs": [
    {
     "name": "stdout",
     "output_type": "stream",
     "text": [
      "div() takes 2 positional arguments but 3 were given\n",
      "This is always printed\n"
     ]
    }
   ],
   "source": [
    "def div(a,b):\n",
    "    return a/b\n",
    "try:\n",
    "    print(div(5,4,5))\n",
    "except Exception as e:\n",
    "    print(e)\n",
    "else:\n",
    "    print(\"No Exception\")\n",
    "finally:\n",
    "    print(\"This is always printed\")"
   ]
  },
  {
   "cell_type": "code",
   "execution_count": 39,
   "metadata": {},
   "outputs": [
    {
     "name": "stdout",
     "output_type": "stream",
     "text": [
      "hello\n",
      "list index out of range\n"
     ]
    }
   ],
   "source": [
    "try:\n",
    "    f=open(\"a.txt\",\"r\")\n",
    "    print(f.read())\n",
    "#     print(x)\n",
    "#     print(5/0)\n",
    "    L=[1,2,3]\n",
    "    L[100]\n",
    "except FileNotFoundError:\n",
    "    print(\"File not Found\")\n",
    "except NameError:\n",
    "    print(\"Variable not defined\")\n",
    "except ZeroDivisionError:\n",
    "    print(\"Can't divide by zero\")\n",
    "except Exception as e:\n",
    "    print(e)"
   ]
  },
  {
   "cell_type": "code",
   "execution_count": 41,
   "metadata": {},
   "outputs": [
    {
     "name": "stdout",
     "output_type": "stream",
     "text": [
      "-1\n"
     ]
    },
    {
     "ename": "AssertionError",
     "evalue": "enter the valid no.",
     "output_type": "error",
     "traceback": [
      "\u001b[1;31m---------------------------------------------------------------------------\u001b[0m",
      "\u001b[1;31mAssertionError\u001b[0m                            Traceback (most recent call last)",
      "\u001b[1;32m<ipython-input-41-e3c6fae67d87>\u001b[0m in \u001b[0;36m<module>\u001b[1;34m\u001b[0m\n\u001b[0;32m      1\u001b[0m \u001b[0mn\u001b[0m\u001b[1;33m=\u001b[0m\u001b[0mint\u001b[0m\u001b[1;33m(\u001b[0m\u001b[0minput\u001b[0m\u001b[1;33m(\u001b[0m\u001b[1;33m)\u001b[0m\u001b[1;33m)\u001b[0m\u001b[1;33m\u001b[0m\u001b[1;33m\u001b[0m\u001b[0m\n\u001b[1;32m----> 2\u001b[1;33m \u001b[1;32massert\u001b[0m \u001b[0mn\u001b[0m\u001b[1;33m>\u001b[0m\u001b[1;36m0\u001b[0m\u001b[1;33m,\u001b[0m\u001b[1;34m'enter the valid no.'\u001b[0m\u001b[1;33m\u001b[0m\u001b[1;33m\u001b[0m\u001b[0m\n\u001b[0m",
      "\u001b[1;31mAssertionError\u001b[0m: enter the valid no."
     ]
    }
   ],
   "source": [
    "n=int(input())\n",
    "assert n>0,'enter the valid no.'"
   ]
  },
  {
   "cell_type": "code",
   "execution_count": 45,
   "metadata": {},
   "outputs": [
    {
     "ename": "error",
     "evalue": "b should be int",
     "output_type": "error",
     "traceback": [
      "\u001b[1;31m---------------------------------------------------------------------------\u001b[0m",
      "\u001b[1;31merror\u001b[0m                                     Traceback (most recent call last)",
      "\u001b[1;32m<ipython-input-45-123916a12e21>\u001b[0m in \u001b[0;36m<module>\u001b[1;34m\u001b[0m\n\u001b[0;32m      8\u001b[0m         \u001b[1;32mraise\u001b[0m \u001b[0merror\u001b[0m\u001b[1;33m(\u001b[0m\u001b[1;34m\"b should be int\"\u001b[0m\u001b[1;33m)\u001b[0m\u001b[1;33m\u001b[0m\u001b[1;33m\u001b[0m\u001b[0m\n\u001b[0;32m      9\u001b[0m     \u001b[1;32mreturn\u001b[0m \u001b[1;33m(\u001b[0m\u001b[0ma\u001b[0m\u001b[1;33m+\u001b[0m\u001b[0mb\u001b[0m\u001b[1;33m)\u001b[0m\u001b[1;33m\u001b[0m\u001b[1;33m\u001b[0m\u001b[0m\n\u001b[1;32m---> 10\u001b[1;33m \u001b[0madd\u001b[0m\u001b[1;33m(\u001b[0m\u001b[1;34m\"abc\"\u001b[0m\u001b[1;33m,\u001b[0m\u001b[1;34m'xyz'\u001b[0m\u001b[1;33m)\u001b[0m\u001b[1;33m\u001b[0m\u001b[1;33m\u001b[0m\u001b[0m\n\u001b[0m",
      "\u001b[1;32m<ipython-input-45-123916a12e21>\u001b[0m in \u001b[0;36madd\u001b[1;34m(a, b)\u001b[0m\n\u001b[0;32m      6\u001b[0m \u001b[1;31m#         raise TypeError(\"a should be int\")\u001b[0m\u001b[1;33m\u001b[0m\u001b[1;33m\u001b[0m\u001b[1;33m\u001b[0m\u001b[0m\n\u001b[0;32m      7\u001b[0m     \u001b[1;32mif\u001b[0m \u001b[0mtype\u001b[0m\u001b[1;33m(\u001b[0m\u001b[0mb\u001b[0m\u001b[1;33m)\u001b[0m\u001b[1;33m==\u001b[0m\u001b[0mstr\u001b[0m\u001b[1;33m:\u001b[0m\u001b[1;33m\u001b[0m\u001b[1;33m\u001b[0m\u001b[0m\n\u001b[1;32m----> 8\u001b[1;33m         \u001b[1;32mraise\u001b[0m \u001b[0merror\u001b[0m\u001b[1;33m(\u001b[0m\u001b[1;34m\"b should be int\"\u001b[0m\u001b[1;33m)\u001b[0m\u001b[1;33m\u001b[0m\u001b[1;33m\u001b[0m\u001b[0m\n\u001b[0m\u001b[0;32m      9\u001b[0m     \u001b[1;32mreturn\u001b[0m \u001b[1;33m(\u001b[0m\u001b[0ma\u001b[0m\u001b[1;33m+\u001b[0m\u001b[0mb\u001b[0m\u001b[1;33m)\u001b[0m\u001b[1;33m\u001b[0m\u001b[1;33m\u001b[0m\u001b[0m\n\u001b[0;32m     10\u001b[0m \u001b[0madd\u001b[0m\u001b[1;33m(\u001b[0m\u001b[1;34m\"abc\"\u001b[0m\u001b[1;33m,\u001b[0m\u001b[1;34m'xyz'\u001b[0m\u001b[1;33m)\u001b[0m\u001b[1;33m\u001b[0m\u001b[1;33m\u001b[0m\u001b[0m\n",
      "\u001b[1;31merror\u001b[0m: b should be int"
     ]
    }
   ],
   "source": [
    "class error(Exception):\n",
    "    def __init__(self,arg):\n",
    "        self.msg=arg\n",
    "def add(a,b):\n",
    "#     if type(a)==str:\n",
    "#         raise TypeError(\"a should be int\")\n",
    "    if type(b)==str:\n",
    "        raise error(\"b should be int\")\n",
    "    return (a+b)\n",
    "add(\"abc\",'xyz')"
   ]
  },
  {
   "cell_type": "code",
   "execution_count": 8,
   "metadata": {},
   "outputs": [
    {
     "name": "stdout",
     "output_type": "stream",
     "text": [
      "59\n"
     ]
    }
   ],
   "source": [
    "class A:\n",
    "    a=9\n",
    "    def __init__(self):\n",
    "        self.a+=25\n",
    "    def v(self,num):\n",
    "        self.a+=num\n",
    "        A.a+=self.a\n",
    "obj=A()\n",
    "obj.a=15\n",
    "obj.v(10)\n",
    "obj1=A()\n",
    "print(obj1.a)"
   ]
  },
  {
   "cell_type": "code",
   "execution_count": 5,
   "metadata": {},
   "outputs": [
    {
     "name": "stdout",
     "output_type": "stream",
     "text": [
      "1\n"
     ]
    },
    {
     "data": {
      "text/plain": [
       "3"
      ]
     },
     "execution_count": 5,
     "metadata": {},
     "output_type": "execute_result"
    }
   ],
   "source": [
    "def f():\n",
    "    try:\n",
    "        print(1)\n",
    "        return 3\n",
    "#     return 'q'\n",
    "    except:\n",
    "        print(a)\n",
    "f()"
   ]
  },
  {
   "cell_type": "code",
   "execution_count": 14,
   "metadata": {},
   "outputs": [
    {
     "name": "stdout",
     "output_type": "stream",
     "text": [
      "5\n",
      "<class 'float'>\n",
      "name\n",
      "all the best\n"
     ]
    }
   ],
   "source": [
    "def f():\n",
    "    try:\n",
    "        a=5\n",
    "        print(a)\n",
    "        a=float(a)\n",
    "        print(type(a))\n",
    "        print(b+a)\n",
    "    except NameError:\n",
    "        print('name')\n",
    "    finally:\n",
    "        print(\"all the best\")\n",
    "        \n",
    "f()"
   ]
  },
  {
   "cell_type": "code",
   "execution_count": 1,
   "metadata": {},
   "outputs": [
    {
     "name": "stdout",
     "output_type": "stream",
     "text": [
      "OhioSt.\n",
      "NorthCarolina\n",
      "Syracuse\n",
      "MurraySt.\n",
      "California\n",
      "MorganSt.\n",
      "AppalachianSt.\n",
      "Arkansas\n",
      "Niagara\n",
      "Auburn\n",
      "Valparaiso\n",
      "NorfolkSt.\n",
      "Baylor\n",
      "PortlandSt.\n",
      "Belmont\n",
      "LoyolaMarymount\n",
      "BoiseSt.\n",
      "BrighamYoung\n",
      "NCAsheville\n",
      "Charlotte\n",
      "Clemson\n",
      "CollegeofCharleston\n",
      "CoastalCarolina\n",
      "Colorado\n",
      "Connecticut\n",
      "Duke\n",
      "Duquesne\n",
      "Fairfield\n",
      "FloridaAtlantic\n",
      "GeorgiaSouthern\n",
      "Harvard\n",
      "HoustonBaptist\n",
      "Illinois\n",
      "BostonUniversity\n",
      "IowaSt.\n",
      "Hofstra\n",
      "Kansas\n",
      "KansasSt.\n",
      "NorthGreenville\n",
      "KentSt.\n",
      "MoreheadSt.\n",
      "Kentucky\n",
      "Lafayette\n",
      "Vermont\n",
      "Centenary\n",
      "Marquette\n",
      "Maryland\n",
      "Memphis\n",
      "Mercer\n",
      "MichiganSt.\n",
      "King\n",
      "ConcordiaSt.Paul\n",
      "TennesseeTech\n",
      "Minnesota\n",
      "Mississippi\n",
      "MississippiSt.\n",
      "NorthTexas\n",
      "NorthernArizona\n",
      "NorthernColorado\n",
      "NorthwesternSt.\n",
      "Ohio\n",
      "Providence\n",
      "CalSt.Northridge\n",
      "Purdue\n",
      "Quinnipiac\n",
      "Navy\n",
      "Radford\n",
      "Lehigh\n",
      "SacredHeart\n",
      "NewMexicoSt.\n",
      "St.Mary's\n",
      "CalPoly\n",
      "SanFrancisco\n",
      "SetonHall\n",
      "SouthCarolina\n",
      "SoutheasternLouisiana\n",
      "St.Bonaventure\n",
      "AustinPeay\n",
      "Tennessee\n",
      "Siena\n",
      "TexasA&M\n",
      "TexasSt.\n",
      "SouthDakota\n",
      "TexasTech\n",
      "Georgetown\n",
      "Tulsa\n",
      "Massachusetts\n",
      "Idaho\n",
      "NorthDakotaSt.\n",
      "TexasElPaso\n",
      "Villanova\n",
      "Longwood\n",
      "VirginiaCommonwealth\n",
      "VirginiaMilitaryInst\n",
      "OralRoberts\n",
      "WakeForest\n",
      "Washington\n",
      "WashingtonSt.\n",
      "UtahSt.\n",
      "WeberSt.\n",
      "SouthDakotaSt.\n",
      "Wyoming\n",
      "Xavier\n",
      "Cornell\n",
      "Davidson\n",
      "CalSt.Fullerton\n",
      "Dayton\n",
      "IUPUI\n",
      "WestVirginiaWesleyan\n",
      "EasternKentucky\n",
      "Portland\n",
      "GeorgiaTech\n",
      "Gonzaga\n",
      "NCPembroke\n",
      "HighPoint\n",
      "LaSalle\n",
      "Lipscomb\n",
      "LongBeachSt.\n",
      "MiamiFL\n",
      "Nevada\n",
      "NewMexico\n",
      "NotreDame\n",
      "Oakland\n",
      "Oklahoma\n",
      "Seattle\n",
      "OklahomaSt.\n",
      "SamHoustonSt.\n",
      "SouthernIllinois\n",
      "DallasBaptist\n",
      "TexasArlington\n",
      "LouisianaTech\n",
      "Troy\n",
      "NevadaLasVegas\n",
      "WesternCarolina\n",
      "SanDiegoSt.\n",
      "Texas\n",
      "Marshall\n",
      "Akron\n",
      "WestVirginia\n",
      "Florida\n",
      "VirginiaTech\n",
      "GeorgeWashington\n",
      "Arizona\n",
      "Buffalo\n",
      "TexasSanAntonio\n",
      "WilmingtonOH\n",
      "WesternKentucky\n",
      "WilliamCarey\n",
      "Vanderbilt\n",
      "MissouriSt.\n",
      "Oakwood\n",
      "SanJoseSt.\n",
      "Lynchburg\n",
      "Louisville\n",
      "Houston\n",
      "Missouri\n",
      "Whitman\n",
      "FloridaMemorial\n",
      "TrinityInt'lIL\n",
      "RhodeIsland\n",
      "EastCentral\n",
      "MinotSt.\n",
      "NCWesleyan\n",
      "PeruSt.\n",
      "BethanyCA\n",
      "ColumbiaUnion\n",
      "SouthernNewOrleans\n",
      "DickinsonSt.\n",
      "CalSt.SanBernardino\n",
      "ArkansasFortSmith\n",
      "HampdenSydney\n",
      "Stillman\n",
      "MidlandLthrn\n",
      "Milligan\n",
      "FortHaysSt.\n",
      "AcademyofArt\n",
      "SouthwestSt.\n",
      "LSUShreveport\n",
      "WarnerSouthern\n",
      "EasternOregon\n",
      "Vanguard\n",
      "Catawba\n",
      "OlivetNazarene\n",
      "TexasWesleyan\n",
      "Talledega\n",
      "TexasLutheran\n",
      "Willamette\n",
      "EvergreenSt.\n",
      "CentralMethodist\n",
      "AdamsSt.\n",
      "CarsonNewman\n",
      "WestGeorgia\n",
      "AlbertusMagnus\n",
      "Randolph\n",
      "Bluefield\n",
      "RobertMorrisILSpr\n",
      "RioGrande\n"
     ]
    }
   ],
   "source": [
    "#Task1:a\n",
    "# f=open('scores.txt','r')\n",
    "# c=sum=0\n",
    "# for lines in f:\n",
    "#     l=lines.split()\n",
    "#     c+=1\n",
    "#     for i in l:\n",
    "#         if i.isdigit():\n",
    "#             sum+=int(i)\n",
    "# print(sum/c)\n",
    "# f.close()\n",
    "\n",
    "#b\n",
    "# f=open('scores.txt','r+')\n",
    "# team=input(\"Enter ur fav team:\")\n",
    "# win=loss=0\n",
    "# for lines in f:\n",
    "#     l=lines.split()\n",
    "#     if l[1]==team:\n",
    "#         if int(l[2])>int(l[4]):\n",
    "#             win+=1\n",
    "#         else:\n",
    "#             loss+=1\n",
    "#     if l[3]==team:\n",
    "#         if int(l[4])>int(l[2]):\n",
    "#             win+=1\n",
    "#         else:\n",
    "#             loss+=1\n",
    "# print(f\"loss:{loss},win:{win}\")\n",
    "# f.close()\n",
    "\n",
    "#c\n",
    "# f=open('scores.txt','r+')\n",
    "# d={}\n",
    "# for lines in f:\n",
    "#     l=lines.split()\n",
    "#     if int(l[2])>int(l[4]) and int(l[2])-int(l[4])>=30:\n",
    "#         d[l[3]]=d.get(l[3],0)+1\n",
    "#     elif int(l[2])<int(l[4]) and int(l[4])-int(l[2])>=30:\n",
    "#         d[l[1]]=d.get(l[1],0)+1\n",
    "# # print(d)\n",
    "# k=list(d.items())\n",
    "# k.sort(key=lambda x:x[1],reverse=True)\n",
    "# # print(k)\n",
    "# print(f\"{k[0][0]},{k[0][1]}\")\n",
    "# f.close()\n",
    "\n",
    "#d\n",
    "f=open('scores.txt','r+')\n",
    "d={}\n",
    "for lines in f:\n",
    "    l=lines.split()\n",
    "    d[l[1]]=d.get(l[1],[])+[int(l[2])]\n",
    "    d[l[3]]=d.get(l[3],[])+[int(l[4])]\n",
    "for i,j in d.items():\n",
    "    if (sum(j)/len(j))>=70:\n",
    "        print(i)\n"
   ]
  },
  {
   "cell_type": "code",
   "execution_count": null,
   "metadata": {},
   "outputs": [],
   "source": []
  },
  {
   "cell_type": "code",
   "execution_count": null,
   "metadata": {},
   "outputs": [],
   "source": []
  },
  {
   "cell_type": "code",
   "execution_count": null,
   "metadata": {},
   "outputs": [],
   "source": []
  },
  {
   "cell_type": "code",
   "execution_count": null,
   "metadata": {},
   "outputs": [],
   "source": []
  },
  {
   "cell_type": "code",
   "execution_count": null,
   "metadata": {},
   "outputs": [],
   "source": []
  }
 ],
 "metadata": {
  "kernelspec": {
   "display_name": "Python 3",
   "language": "python",
   "name": "python3"
  },
  "language_info": {
   "codemirror_mode": {
    "name": "ipython",
    "version": 3
   },
   "file_extension": ".py",
   "mimetype": "text/x-python",
   "name": "python",
   "nbconvert_exporter": "python",
   "pygments_lexer": "ipython3",
   "version": "3.8.5"
  }
 },
 "nbformat": 4,
 "nbformat_minor": 4
}
