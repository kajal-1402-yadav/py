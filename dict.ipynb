{
 "cells": [
  {
   "cell_type": "code",
   "execution_count": 1,
   "metadata": {},
   "outputs": [
    {
     "name": "stdout",
     "output_type": "stream",
     "text": [
      "<class 'dict'>\n"
     ]
    }
   ],
   "source": [
    "d={}\n",
    "print(type(d))"
   ]
  },
  {
   "cell_type": "code",
   "execution_count": 2,
   "metadata": {},
   "outputs": [
    {
     "name": "stdout",
     "output_type": "stream",
     "text": [
      "<class 'dict'>\n"
     ]
    }
   ],
   "source": [
    "d=dict()\n",
    "print(type(d))"
   ]
  },
  {
   "cell_type": "code",
   "execution_count": 3,
   "metadata": {
    "scrolled": false
   },
   "outputs": [
    {
     "name": "stdout",
     "output_type": "stream",
     "text": [
      "7\n"
     ]
    },
    {
     "ename": "KeyError",
     "evalue": "'fsd'",
     "output_type": "error",
     "traceback": [
      "\u001b[1;31m---------------------------------------------------------------------------\u001b[0m",
      "\u001b[1;31mKeyError\u001b[0m                                  Traceback (most recent call last)",
      "\u001b[1;32m<ipython-input-3-b28b250fa8f1>\u001b[0m in \u001b[0;36m<module>\u001b[1;34m\u001b[0m\n\u001b[0;32m      1\u001b[0m \u001b[0md\u001b[0m\u001b[1;33m=\u001b[0m\u001b[1;33m{\u001b[0m\u001b[1;34m'python'\u001b[0m\u001b[1;33m:\u001b[0m\u001b[1;36m10\u001b[0m\u001b[1;33m,\u001b[0m\u001b[1;34m'FSD'\u001b[0m\u001b[1;33m:\u001b[0m\u001b[1;36m9\u001b[0m\u001b[1;33m,\u001b[0m\u001b[1;34m'ps'\u001b[0m\u001b[1;33m:\u001b[0m\u001b[1;36m8\u001b[0m\u001b[1;33m,\u001b[0m\u001b[1;34m'de'\u001b[0m\u001b[1;33m:\u001b[0m\u001b[1;36m7\u001b[0m\u001b[1;33m}\u001b[0m\u001b[1;33m\u001b[0m\u001b[1;33m\u001b[0m\u001b[0m\n\u001b[0;32m      2\u001b[0m \u001b[0mprint\u001b[0m\u001b[1;33m(\u001b[0m\u001b[0md\u001b[0m\u001b[1;33m[\u001b[0m\u001b[1;34m'de'\u001b[0m\u001b[1;33m]\u001b[0m\u001b[1;33m)\u001b[0m\u001b[1;33m\u001b[0m\u001b[1;33m\u001b[0m\u001b[0m\n\u001b[1;32m----> 3\u001b[1;33m \u001b[0mprint\u001b[0m\u001b[1;33m(\u001b[0m\u001b[0md\u001b[0m\u001b[1;33m[\u001b[0m\u001b[1;34m'fsd'\u001b[0m\u001b[1;33m]\u001b[0m\u001b[1;33m)\u001b[0m\u001b[1;33m\u001b[0m\u001b[1;33m\u001b[0m\u001b[0m\n\u001b[0m",
      "\u001b[1;31mKeyError\u001b[0m: 'fsd'"
     ]
    }
   ],
   "source": [
    "d={'python':10,'FSD':9,'ps':8,'de':7}\n",
    "print(d['de'])\n",
    "print(d['fsd'])\n"
   ]
  },
  {
   "cell_type": "code",
   "execution_count": 8,
   "metadata": {},
   "outputs": [
    {
     "name": "stdout",
     "output_type": "stream",
     "text": [
      "7\n",
      "10\n"
     ]
    },
    {
     "ename": "KeyError",
     "evalue": "'PDO'",
     "output_type": "error",
     "traceback": [
      "\u001b[1;31m---------------------------------------------------------------------------\u001b[0m",
      "\u001b[1;31mKeyError\u001b[0m                                  Traceback (most recent call last)",
      "\u001b[1;32m<ipython-input-8-07392f9e9b19>\u001b[0m in \u001b[0;36m<module>\u001b[1;34m\u001b[0m\n\u001b[0;32m      2\u001b[0m \u001b[0mprint\u001b[0m\u001b[1;33m(\u001b[0m\u001b[0md\u001b[0m\u001b[1;33m[\u001b[0m\u001b[1;34m'FSD'\u001b[0m\u001b[1;33m]\u001b[0m\u001b[1;33m)\u001b[0m\u001b[1;33m\u001b[0m\u001b[1;33m\u001b[0m\u001b[0m\n\u001b[0;32m      3\u001b[0m \u001b[0mprint\u001b[0m\u001b[1;33m(\u001b[0m\u001b[0md\u001b[0m\u001b[1;33m[\u001b[0m\u001b[1;34m'python'\u001b[0m\u001b[1;33m]\u001b[0m\u001b[1;33m)\u001b[0m\u001b[1;33m\u001b[0m\u001b[1;33m\u001b[0m\u001b[0m\n\u001b[1;32m----> 4\u001b[1;33m \u001b[0mprint\u001b[0m\u001b[1;33m(\u001b[0m\u001b[0md\u001b[0m\u001b[1;33m[\u001b[0m\u001b[1;34m'PDO'\u001b[0m\u001b[1;33m]\u001b[0m\u001b[1;33m)\u001b[0m\u001b[1;33m\u001b[0m\u001b[1;33m\u001b[0m\u001b[0m\n\u001b[0m\u001b[0;32m      5\u001b[0m \u001b[0md\u001b[0m\u001b[1;33m[\u001b[0m\u001b[1;34m'ps'\u001b[0m\u001b[1;33m]\u001b[0m\u001b[1;33m=\u001b[0m\u001b[1;36m12\u001b[0m\u001b[1;33m\u001b[0m\u001b[1;33m\u001b[0m\u001b[0m\n\u001b[0;32m      6\u001b[0m \u001b[0mprint\u001b[0m\u001b[1;33m(\u001b[0m\u001b[0md\u001b[0m\u001b[1;33m)\u001b[0m\u001b[1;33m\u001b[0m\u001b[1;33m\u001b[0m\u001b[0m\n",
      "\u001b[1;31mKeyError\u001b[0m: 'PDO'"
     ]
    }
   ],
   "source": [
    "d={'python':10,'FSD':9,'ps':8,'FSD':7}\n",
    "print(d['FSD'])\n",
    "print(d['python'])\n",
    "print(d['PDO'])\n",
    "d['ps']=12\n",
    "print(d)"
   ]
  },
  {
   "cell_type": "code",
   "execution_count": 9,
   "metadata": {},
   "outputs": [
    {
     "name": "stdout",
     "output_type": "stream",
     "text": [
      "{'python': 10, 'FSD': 9, 'ps': 12, 'de': 7}\n"
     ]
    }
   ],
   "source": [
    "d={'python':10,'FSD':9,'ps':8,'de':7}\n",
    "d['ps']=12\n",
    "print(d)"
   ]
  },
  {
   "cell_type": "code",
   "execution_count": 10,
   "metadata": {},
   "outputs": [
    {
     "name": "stdout",
     "output_type": "stream",
     "text": [
      "11\n"
     ]
    }
   ],
   "source": [
    "d={'python':{1:10,2:10,3:10},'FSD':{1:11,2:11,3:11},'ps':{1:12,2:12,3:12}}\n",
    "print(d['FSD'][2])"
   ]
  },
  {
   "cell_type": "code",
   "execution_count": 12,
   "metadata": {},
   "outputs": [
    {
     "name": "stdout",
     "output_type": "stream",
     "text": [
      "{1: 9, 2: 4, 5: 6, 3: 5, 4: 7}\n",
      "{1: 9, 2: 4, 3: 5, 4: 7}\n",
      "{1: 9, 2: 4, 3: 5}\n",
      "{}\n",
      "False\n"
     ]
    }
   ],
   "source": [
    "d={1:2,2:4,5:6}\n",
    "d.update({3:5,4:7,1:9})\n",
    "print(d)\n",
    "#d.pop() TypeError: pop expected at least 1 argument, got 0\n",
    "d.pop(5)\n",
    "print(d)\n",
    "d.popitem()\n",
    "print(d)\n",
    "d.clear()\n",
    "print(d)\n",
    "print(1 in d)\n"
   ]
  },
  {
   "cell_type": "code",
   "execution_count": 22,
   "metadata": {},
   "outputs": [
    {
     "name": "stdout",
     "output_type": "stream",
     "text": [
      "{1: 9, 2: 4, 5: 6, 3: 5, 4: 7}\n",
      "keys:\n",
      "12534\n",
      "values:\n",
      "94657\n",
      "dict_keys([1, 2, 5, 3, 4])\n",
      "<class 'builtin_function_or_method'>\n",
      "dict_values([9, 4, 6, 5, 7])\n",
      "<class 'builtin_function_or_method'>\n",
      "dict_items([(1, 9), (2, 4), (5, 6), (3, 5), (4, 7)])\n"
     ]
    }
   ],
   "source": [
    "d={1:2,2:4,5:6}\n",
    "d.update({3:5,4:7,1:9})\n",
    "print(d)\n",
    "print(\"keys:\")\n",
    "for i in d:\n",
    "    print(i,end='')\n",
    "print()    \n",
    "print(\"values:\")\n",
    "for i in d.values():\n",
    "    print(i,end=\"\")\n",
    "print()    \n",
    "print(d.keys())\n",
    "print(type(d.keys))\n",
    "print(d.values())\n",
    "print(type(d.values))\n",
    "print(d.items())"
   ]
  },
  {
   "cell_type": "code",
   "execution_count": 26,
   "metadata": {},
   "outputs": [
    {
     "name": "stdout",
     "output_type": "stream",
     "text": [
      "{1: 9, 2: 4, 5: 6, 3: 5, 4: 7}\n",
      "1 : 9\n",
      "2 : 4\n",
      "5 : 6\n",
      "3 : 5\n",
      "4 : 7\n"
     ]
    }
   ],
   "source": [
    "d={1:2,2:4,5:6}\n",
    "d.update({3:5,4:7,1:9})\n",
    "print(d)\n",
    "for i,j in d.items():\n",
    "    print(i,\":\",j)"
   ]
  },
  {
   "cell_type": "code",
   "execution_count": 40,
   "metadata": {},
   "outputs": [
    {
     "name": "stdout",
     "output_type": "stream",
     "text": [
      "4\n",
      "a\n",
      "d\n",
      "['a', 'b', 'c', 'd']\n",
      "{'a': 2, 'b': 4, 'c': 6, 'd': 8}\n",
      "{'a': 2, 'b': 4, 'c': 6, 'd': 8, 5: None}\n",
      "{'a': 2, 'b': 4, 'c': 6, 'd': 8, 5: None}\n",
      "{1: 10, 2: 10, 3: 10}\n"
     ]
    }
   ],
   "source": [
    "d={'a':2,'b':4,'c':6,'d':8}\n",
    "print(len(d))\n",
    "print(min(d))\n",
    "print(max(d))\n",
    "print(sorted(d))\n",
    "d.setdefault('d')\n",
    "print(d)\n",
    "d.setdefault(5)\n",
    "print(d)\n",
    "d.setdefault('d',10)\n",
    "print(d)\n",
    "d=d.fromkeys((1,2,3),10)\n",
    "print(d)"
   ]
  },
  {
   "cell_type": "code",
   "execution_count": 46,
   "metadata": {},
   "outputs": [
    {
     "name": "stdout",
     "output_type": "stream",
     "text": [
      "1\n",
      "None\n",
      "4\n",
      "1\n",
      "{'A': 1, 'B': 2, 'C': 3}\n"
     ]
    }
   ],
   "source": [
    "d={'A':1,'B':2,'C':3}\n",
    "print(d.get('A'))\n",
    "print(d.get('E'))\n",
    "print(d.get('E',4))\n",
    "print(d.get('A',4))\n",
    "print(d)\n"
   ]
  },
  {
   "cell_type": "code",
   "execution_count": 57,
   "metadata": {},
   "outputs": [
    {
     "name": "stdout",
     "output_type": "stream",
     "text": [
      "['apple', 'orange', 'are', 'good', 'in', 'an', 'ora']\n",
      "{'a': 3, 'o': 2, 'g': 1, 'i': 1}\n"
     ]
    }
   ],
   "source": [
    "s='apple orange are good in an ora'\n",
    "d={}\n",
    "l=list(s.split())\n",
    "print(l)\n",
    "for i in l:\n",
    "    d[i[0]]=d.get(i[0],0)+1\n",
    "print(d)    \n",
    "        \n",
    "        "
   ]
  },
  {
   "cell_type": "code",
   "execution_count": 60,
   "metadata": {},
   "outputs": [
    {
     "name": "stdout",
     "output_type": "stream",
     "text": [
      "['apple', 'orange', 'are', 'good', 'in', 'an', 'ora']\n",
      "{'a': ['apple', 'are', 'an'], 'o': ['orange', 'ora'], 'g': ['good'], 'i': ['in']}\n"
     ]
    }
   ],
   "source": [
    "s='apple orange are good in an ora'\n",
    "d={}\n",
    "l=list(s.split())\n",
    "print(l)\n",
    "for i in l:\n",
    "    p=i[0]\n",
    "    count=[]\n",
    "    for j in l:\n",
    "        if j[0]==i[0]:\n",
    "            count.append(j)\n",
    "    d[i[0]]=count    \n",
    "        \n",
    "print(d)    \n",
    "        \n",
    "        "
   ]
  },
  {
   "cell_type": "code",
   "execution_count": 61,
   "metadata": {},
   "outputs": [
    {
     "name": "stdout",
     "output_type": "stream",
     "text": [
      "['apple', 'orange', 'are', 'good', 'in', 'an', 'ora']\n",
      "{'a': ['apple', 'are', 'an'], 'o': ['orange', 'ora'], 'g': ['good'], 'i': ['in']}\n"
     ]
    }
   ],
   "source": [
    "s='apple orange are good in an ora'\n",
    "d={}\n",
    "l=list(s.split())\n",
    "print(l)\n",
    "for i in l:\n",
    "    d[i[0]]=d.get(i[0],[])+[i]\n",
    "print(d)    \n",
    "        \n",
    "        "
   ]
  },
  {
   "cell_type": "code",
   "execution_count": 87,
   "metadata": {},
   "outputs": [
    {
     "name": "stdout",
     "output_type": "stream",
     "text": [
      "1234\n",
      "one thousand two hundred thirty four\n"
     ]
    }
   ],
   "source": [
    "n=int(input())\n",
    "ones={1:'one',2:'two',3:'three',4:'four',5:'five',6:'six',7:'seven',8:'eight',9:'nine',10:'ten',11:'eleven',12:'twelve'\n",
    ",13:'thirteen',14:'fourteen',15:'fifteen',16:'sixteen',17:'seventeen',18:'eighteen',19:'nineteen'}\n",
    "tens={20: \"twenty\", 30: \"thirty\", 40: \"forty\", 50: \"fifty\", 60: \"sixty\", 70: \"seventy\", 80: \"eighty\", 90: \"ninety\"}\n",
    "    \n",
    "word=\"\"\n",
    "if n>=1000:\n",
    "    word+=ones[n//1000]+ \" thousand \"\n",
    "    n=n%1000\n",
    "if n>=100:\n",
    "    word+=ones[n//100]+ \" hundred \"\n",
    "    n=n%100\n",
    "if n>=20:\n",
    "    word+=tens[(n//10)*10]+\" \"\n",
    "    n=n%10   \n",
    "if n<20 and n>0:\n",
    "    word+=ones[n]\n",
    "\n",
    "print(word)"
   ]
  },
  {
   "cell_type": "code",
   "execution_count": null,
   "metadata": {},
   "outputs": [],
   "source": []
  },
  {
   "cell_type": "code",
   "execution_count": null,
   "metadata": {},
   "outputs": [],
   "source": []
  },
  {
   "cell_type": "code",
   "execution_count": null,
   "metadata": {},
   "outputs": [],
   "source": []
  },
  {
   "cell_type": "code",
   "execution_count": null,
   "metadata": {},
   "outputs": [],
   "source": []
  },
  {
   "cell_type": "code",
   "execution_count": null,
   "metadata": {},
   "outputs": [],
   "source": []
  }
 ],
 "metadata": {
  "kernelspec": {
   "display_name": "Python 3",
   "language": "python",
   "name": "python3"
  },
  "language_info": {
   "codemirror_mode": {
    "name": "ipython",
    "version": 3
   },
   "file_extension": ".py",
   "mimetype": "text/x-python",
   "name": "python",
   "nbconvert_exporter": "python",
   "pygments_lexer": "ipython3",
   "version": "3.8.5"
  }
 },
 "nbformat": 4,
 "nbformat_minor": 4
}
