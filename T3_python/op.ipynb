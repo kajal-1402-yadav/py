{
 "cells": [
  {
   "cell_type": "code",
   "execution_count": 50,
   "metadata": {},
   "outputs": [
    {
     "name": "stdout",
     "output_type": "stream",
     "text": [
      "<_io.TextIOWrapper name='h.txt' mode='r' encoding='cp1252'>\n",
      "helo\n",
      "> \n"
     ]
    },
    {
     "ename": "UnsupportedOperation",
     "evalue": "not writable",
     "output_type": "error",
     "traceback": [
      "\u001b[1;31m---------------------------------------------------------------------------\u001b[0m",
      "\u001b[1;31mUnsupportedOperation\u001b[0m                      Traceback (most recent call last)",
      "\u001b[1;32m<ipython-input-50-87b41d390a0d>\u001b[0m in \u001b[0;36m<module>\u001b[1;34m\u001b[0m\n\u001b[0;32m      6\u001b[0m \u001b[0mprint\u001b[0m\u001b[1;33m(\u001b[0m\u001b[1;34m'>'\u001b[0m\u001b[1;33m,\u001b[0m\u001b[0mx\u001b[0m\u001b[1;33m)\u001b[0m\u001b[1;33m\u001b[0m\u001b[1;33m\u001b[0m\u001b[0m\n\u001b[0;32m      7\u001b[0m \u001b[1;31m# file_object.close()\u001b[0m\u001b[1;33m\u001b[0m\u001b[1;33m\u001b[0m\u001b[1;33m\u001b[0m\u001b[0m\n\u001b[1;32m----> 8\u001b[1;33m \u001b[0mfile_object\u001b[0m\u001b[1;33m.\u001b[0m\u001b[0mwrite\u001b[0m\u001b[1;33m(\u001b[0m\u001b[1;34m'hi'\u001b[0m\u001b[1;33m)\u001b[0m\u001b[1;33m\u001b[0m\u001b[1;33m\u001b[0m\u001b[0m\n\u001b[0m\u001b[0;32m      9\u001b[0m \u001b[0mfile_object\u001b[0m\u001b[1;33m.\u001b[0m\u001b[0mclose\u001b[0m\u001b[1;33m(\u001b[0m\u001b[1;33m)\u001b[0m\u001b[1;33m\u001b[0m\u001b[1;33m\u001b[0m\u001b[0m\n",
      "\u001b[1;31mUnsupportedOperation\u001b[0m: not writable"
     ]
    }
   ],
   "source": [
    "file_object=open(\"h.txt\",mode='r')\n",
    "print(file_object)\n",
    "r=file_object.read()\n",
    "print(r)\n",
    "x=file_object.read()\n",
    "print('>',x)\n",
    "# file_object.close()\n",
    "file_object.write('hi')\n",
    "file_object.close()"
   ]
  },
  {
   "cell_type": "code",
   "execution_count": 70,
   "metadata": {},
   "outputs": [
    {
     "name": "stdout",
     "output_type": "stream",
     "text": [
      "hi\n"
     ]
    }
   ],
   "source": [
    "f=open(\"D://abc.txt\",mode='w+')\n",
    "f.write('hi')\n",
    "f.seek(0)\n",
    "x=f.read()\n",
    "print(x)\n",
    "f.close()"
   ]
  },
  {
   "cell_type": "code",
   "execution_count": 75,
   "metadata": {},
   "outputs": [
    {
     "name": "stdout",
     "output_type": "stream",
     "text": [
      "\n"
     ]
    }
   ],
   "source": [
    "f=open(\"D://pqr.txt\",mode='a+')\n",
    "r=f.read()\n",
    "print(r)\n",
    "f.write('b1 is')\n",
    "# f.seek(0)\n",
    "# r=f.read()\n",
    "# print(r)\n",
    "f.close()"
   ]
  },
  {
   "cell_type": "code",
   "execution_count": 82,
   "metadata": {},
   "outputs": [
    {
     "name": "stdout",
     "output_type": "stream",
     "text": [
      "True\n",
      "a+\n",
      "D://pqr.txt\n",
      "<built-in method readable of _io.TextIOWrapper object at 0x000002305AFE5A00>\n",
      "<built-in method writable of _io.TextIOWrapper object at 0x000002305AFE5A00>\n"
     ]
    }
   ],
   "source": [
    "print(f.closed)\n",
    "print(f.mode)\n",
    "print(f.name)\n",
    "print(f.readable)\n",
    "print(f.writable)"
   ]
  },
  {
   "cell_type": "code",
   "execution_count": 83,
   "metadata": {},
   "outputs": [
    {
     "data": {
      "text/plain": [
       "True"
      ]
     },
     "execution_count": 83,
     "metadata": {},
     "output_type": "execute_result"
    }
   ],
   "source": [
    "import os\n",
    "os.path.isfile('h.txt')"
   ]
  },
  {
   "cell_type": "code",
   "execution_count": 86,
   "metadata": {},
   "outputs": [],
   "source": [
    "f=open('h.txt','w')\n",
    "f.write('bababa')\n",
    "f.writelines(['\\n2','\\n3','\\n4','\\n5'])\n",
    "f.close()"
   ]
  },
  {
   "cell_type": "code",
   "execution_count": 2,
   "metadata": {},
   "outputs": [
    {
     "name": "stdout",
     "output_type": "stream",
     "text": [
      "hello\n",
      "\n",
      "hi\n",
      "\n",
      "w\n",
      "['elcome']\n"
     ]
    }
   ],
   "source": [
    "f=open('h.txt')\n",
    "# x=f.read(7)\n",
    "# print(x)\n",
    "print(f.readline())\n",
    "print(f.readline(7))\n",
    "print(f.readline(1))\n",
    "print(f.readlines())\n",
    "f.close()"
   ]
  },
  {
   "cell_type": "code",
   "execution_count": 18,
   "metadata": {},
   "outputs": [
    {
     "name": "stdout",
     "output_type": "stream",
     "text": [
      "18\n",
      "18\n"
     ]
    }
   ],
   "source": [
    "with open('h.txt','a+') as f:\n",
    "    print(f.tell())\n",
    "    f.seek(0,1)\n",
    "    print(f.tell())\n",
    "#     print(f.read())\n",
    "    f.close()"
   ]
  },
  {
   "cell_type": "code",
   "execution_count": 32,
   "metadata": {},
   "outputs": [],
   "source": [
    "f=open('h.txt','r')\n",
    "g=open('b.txt','w')\n",
    "for i in f:\n",
    "    if '#' not in i:\n",
    "        g.write(i)\n",
    "    else:\n",
    "        if len(i.split('#')[0])>0:\n",
    "            g.write(i.split('#')[0]+'\\n')\n",
    "g.close()"
   ]
  },
  {
   "cell_type": "code",
   "execution_count": 44,
   "metadata": {},
   "outputs": [
    {
     "name": "stdout",
     "output_type": "stream",
     "text": [
      "line : 2\n",
      "col : 7\n",
      "line : 4\n",
      "col : 1\n"
     ]
    }
   ],
   "source": [
    "f=open('h.txt','r')\n",
    "g=open('b.txt','r')\n",
    "line=1\n",
    "col=1\n",
    "for i,j in zip(f,g):\n",
    "#     print(i,j)\n",
    "    if i!=j:\n",
    "        for a,b in zip(i,j):\n",
    "#             print(a,b)\n",
    "            if a!=b:\n",
    "                print('line :',line)\n",
    "                print('col :',col)\n",
    "            else:\n",
    "                col=col+1\n",
    "        line=line+1\n",
    "    else:\n",
    "        line=line+1\n",
    "        col=1"
   ]
  },
  {
   "cell_type": "code",
   "execution_count": 56,
   "metadata": {},
   "outputs": [
    {
     "name": "stdout",
     "output_type": "stream",
     "text": [
      "python\n",
      "best\n",
      "good\n",
      "All\n",
      "the\n"
     ]
    }
   ],
   "source": [
    "f=open('h.txt','r')\n",
    "l=[]\n",
    "for i in f:\n",
    "#     print(i)\n",
    "    for j in i.split():\n",
    "#         print(j)\n",
    "        if j not in l:\n",
    "            l.append(j)\n",
    "l.sort(key=lambda x:len(x),reverse=True)\n",
    "for i in range(5):\n",
    "    print(l[i])\n"
   ]
  },
  {
   "cell_type": "code",
   "execution_count": 5,
   "metadata": {},
   "outputs": [],
   "source": [
    "f=open('h.txt','r')\n",
    "g=open('b.txt','w')\n",
    "c=0\n",
    "for i in f:\n",
    "    for j in i:\n",
    "        if c>=80:\n",
    "            if (j.isspace()):\n",
    "                continue\n",
    "            else:\n",
    "                g.write('\\n'+j)\n",
    "            c=0\n",
    "        else:\n",
    "            g.write(j)\n",
    "        c+=1\n",
    "g.close()"
   ]
  },
  {
   "cell_type": "code",
   "execution_count": 12,
   "metadata": {},
   "outputs": [
    {
     "name": "stdout",
     "output_type": "stream",
     "text": [
      "stephen.marquard@uct.ac.za\n",
      "louis@media.berkeley.edu\n",
      "zqian@umich.edu\n",
      "rjlowe@iupui.edu\n",
      "zqian@umich.edu\n",
      "rjlowe@iupui.edu\n",
      "cwen@iupui.edu\n",
      "cwen@iupui.edu\n",
      "gsilver@umich.edu\n",
      "gsilver@umich.edu\n",
      "zqian@umich.edu\n",
      "gsilver@umich.edu\n",
      "wagnermr@iupui.edu\n",
      "zqian@umich.edu\n",
      "antranig@caret.cam.ac.uk\n",
      "gopal.ramasammycook@gmail.com\n",
      "david.horwitz@uct.ac.za\n",
      "david.horwitz@uct.ac.za\n",
      "david.horwitz@uct.ac.za\n",
      "david.horwitz@uct.ac.za\n",
      "stephen.marquard@uct.ac.za\n",
      "louis@media.berkeley.edu\n",
      "louis@media.berkeley.edu\n",
      "ray@media.berkeley.edu\n",
      "cwen@iupui.edu\n",
      "cwen@iupui.edu\n",
      "cwen@iupui.edu\n",
      "lines are 27\n"
     ]
    }
   ],
   "source": [
    "f=open('Files/mbox-short.txt')\n",
    "c=0\n",
    "for i in f:\n",
    "    if not i.startswith('From '):\n",
    "        continue\n",
    "    print(i.split()[1])\n",
    "    c+=1\n",
    "print(f\"lines are {c}\")"
   ]
  },
  {
   "cell_type": "code",
   "execution_count": 14,
   "metadata": {},
   "outputs": [
    {
     "name": "stdout",
     "output_type": "stream",
     "text": [
      "cwen@iupui.edu > 5\n"
     ]
    }
   ],
   "source": [
    "f=open('Files/mbox-short.txt')\n",
    "l=[]\n",
    "for i in f:\n",
    "    if not i.startswith('From '):\n",
    "        continue\n",
    "    l.append(i.split()[1])\n",
    "d={}\n",
    "for i in l:\n",
    "    d[i]=d.get(i,0)+1\n",
    "k=list(d.items())\n",
    "k.sort(key=lambda x:x[1],reverse=True)\n",
    "\n",
    "print(f\"{k[0][0]} > {k[0][1]}\")"
   ]
  },
  {
   "cell_type": "code",
   "execution_count": 18,
   "metadata": {},
   "outputs": [
    {
     "name": "stdout",
     "output_type": "stream",
     "text": [
      "11 >> 6\n",
      "16 >> 4\n",
      "10 >> 3\n",
      "04 >> 3\n",
      "09 >> 2\n",
      "15 >> 2\n",
      "17 >> 2\n",
      "18 >> 1\n",
      "14 >> 1\n",
      "07 >> 1\n",
      "06 >> 1\n",
      "19 >> 1\n"
     ]
    }
   ],
   "source": [
    "f=open('Files/mbox-short.txt')\n",
    "l=[]\n",
    "d={}\n",
    "for i in f:\n",
    "    if not i.startswith('From '):\n",
    "        continue\n",
    "    l.append(i.split(':')[0].split()[-1])\n",
    "for i in l:\n",
    "    d[i]=d.get(i,0)+1\n",
    "k=list(d.items())\n",
    "k.sort(key=lambda x:x[1],reverse=True)\n",
    "\n",
    "for i in range(len(k)):\n",
    "    print(f\"{k[i][0]} >> {k[i][1]}\")\n"
   ]
  },
  {
   "cell_type": "code",
   "execution_count": 30,
   "metadata": {},
   "outputs": [
    {
     "name": "stdout",
     "output_type": "stream",
     "text": [
      "0.7507185185185187\n"
     ]
    }
   ],
   "source": [
    "f=open('Files/mbox-short.txt')\n",
    "s=0\n",
    "c=0\n",
    "for i in f:\n",
    "    if not i.startswith('X-DSPAM-Confidence: '):\n",
    "        continue\n",
    "#     print((i.split()[1]))\n",
    "    s+=float(i.split()[1])\n",
    "    c+=1\n",
    "print(s/c)"
   ]
  },
  {
   "cell_type": "code",
   "execution_count": 48,
   "metadata": {},
   "outputs": [
    {
     "name": "stdout",
     "output_type": "stream",
     "text": [
      "Richie\n",
      "Armstrong\n",
      "Wirth\n",
      "Matz\n",
      "Gosling\n"
     ]
    }
   ],
   "source": [
    "f=open('Files/logfile.txt')\n",
    "\n",
    "for i in f:\n",
    "    l=i.split()\n",
    "    log_in=int(l[1].split(':')[0])+int(l[1].split(':')[1])/60\n",
    "    log_out=int(l[2].split(':')[0])+int(l[2].split(':')[1])/60\n",
    "    if(log_out-log_in)>=1:\n",
    "        print(l[0])\n",
    "    "
   ]
  },
  {
   "cell_type": "code",
   "execution_count": 56,
   "metadata": {},
   "outputs": [
    {
     "name": "stdout",
     "output_type": "stream",
     "text": [
      "enter the word: VA\n",
      "Vishal H Acharya\n",
      "Vishal Acharya\n"
     ]
    }
   ],
   "source": [
    "f=open('Files/namelist.txt')\n",
    "x=input(\"enter the word: \")\n",
    "for i in f:\n",
    "    l=i.split()\n",
    "    if len(x)==2:\n",
    "        if x[0]==l[0][0] and x[1]==l[-1][0]:\n",
    "            print(' '.join(l))\n",
    "    if len(x)==3:\n",
    "        if x[0]==l[0][0] and x[1]==l[1][0] and x[2]==l[2][0]:\n",
    "            print(' '.join(l))"
   ]
  },
  {
   "cell_type": "code",
   "execution_count": 62,
   "metadata": {},
   "outputs": [
    {
     "name": "stdout",
     "output_type": "stream",
     "text": [
      "enter the word: aa\n",
      "Paola\n",
      "Alayna\n",
      "Ignacia\n",
      "Iliana\n",
      "Lamarre\n",
      "Adrianna\n",
      "Daina\n",
      "Ilana\n",
      "Hannaman\n",
      "Tameika\n",
      "Magallan\n",
      "Giammarino\n",
      "Gabriella\n",
      "Pamala\n",
      "Strausbaugh\n",
      "Danial\n",
      "Latoya\n",
      "Lauterbach\n",
      "Marian\n",
      "Harland\n",
      "Stratman\n",
      "Marina\n",
      "Tasha\n",
      "Latonya\n",
      "Stephania\n",
      "Waneta\n",
      "Latina\n",
      "Charlesetta\n",
      "Maria\n",
      "Cassandra\n",
      "Khadijah\n",
      "Halloran\n",
      "Ramonita\n",
      "Karena\n",
      "Delariva\n",
      "Christiana\n",
      "Serafina\n",
      "Santora\n",
      "Vanwagner\n",
      "Broadnax\n",
      "Carrigan\n",
      "Lamar\n",
      "Grazyna\n",
      "Takisha\n",
      "Lizaola\n",
      "Shantae\n",
      "Isaura\n",
      "Sebastian\n",
      "Madia\n",
      "Valentina\n",
      "Savanna\n",
      "Tamica\n",
      "Marvella\n",
      "Farah\n",
      "Takisha\n",
      "Delana\n",
      "Lakesha\n",
      "Latia\n",
      "Harlan\n",
      "Clarita\n",
      "Amanda\n",
      "Harland\n",
      "Deandra\n",
      "Bernarda\n",
      "Sarratt\n",
      "Thalia\n",
      "Tallarico\n",
      "Twanda\n",
      "Gabriela\n",
      "Kahan\n",
      "Vanlandingham\n",
      "Saundra\n",
      "Garceau\n",
      "Branda\n",
      "Qiana\n",
      "Chamberlain\n",
      "Armanda\n",
      "Abdalla\n",
      "Mayola\n",
      "Danial\n",
      "Wanamaker\n",
      "Maryann\n",
      "Graham\n",
      "Alejandra\n",
      "Leana\n",
      "Barbra\n",
      "Maryam\n",
      "Tamar\n",
      "Manual\n",
      "Garrard\n",
      "Acharya\n",
      "Acharya\n"
     ]
    }
   ],
   "source": [
    "f=open('Files/namelist.txt')\n",
    "x=input(\"enter the word: \")\n",
    "l=f.read().split()\n",
    "d={}\n",
    "for i in x:\n",
    "    d[i]=d.get(i,0)+1\n",
    "for word in l:\n",
    "    w={}\n",
    "    for j in word:\n",
    "        w[j]=w.get(j,0)+1\n",
    "    f=True\n",
    "    for i in d:\n",
    "        if (i in w) and w[i]>=d[i]:\n",
    "            continue\n",
    "        f=False\n",
    "    if f:\n",
    "        print(word)"
   ]
  },
  {
   "cell_type": "code",
   "execution_count": 78,
   "metadata": {},
   "outputs": [
    {
     "ename": "TypeError",
     "evalue": "write() argument must be str, not list",
     "output_type": "error",
     "traceback": [
      "\u001b[1;31m---------------------------------------------------------------------------\u001b[0m",
      "\u001b[1;31mTypeError\u001b[0m                                 Traceback (most recent call last)",
      "\u001b[1;32m<ipython-input-78-53601898e7cd>\u001b[0m in \u001b[0;36m<module>\u001b[1;34m\u001b[0m\n\u001b[0;32m      7\u001b[0m \u001b[1;32mfor\u001b[0m \u001b[0mi\u001b[0m \u001b[1;32min\u001b[0m \u001b[0mrange\u001b[0m\u001b[1;33m(\u001b[0m\u001b[0ml\u001b[0m\u001b[1;33m)\u001b[0m\u001b[1;33m:\u001b[0m\u001b[1;33m\u001b[0m\u001b[1;33m\u001b[0m\u001b[0m\n\u001b[0;32m      8\u001b[0m     \u001b[1;32mif\u001b[0m \u001b[0mi\u001b[0m\u001b[1;33m<\u001b[0m\u001b[0mlen\u001b[0m\u001b[1;33m(\u001b[0m\u001b[0ml1\u001b[0m\u001b[1;33m)\u001b[0m\u001b[1;33m:\u001b[0m\u001b[1;33m\u001b[0m\u001b[1;33m\u001b[0m\u001b[0m\n\u001b[1;32m----> 9\u001b[1;33m         \u001b[0mf\u001b[0m\u001b[1;33m.\u001b[0m\u001b[0mwrite\u001b[0m\u001b[1;33m(\u001b[0m\u001b[1;33m[\u001b[0m\u001b[0mi\u001b[0m\u001b[1;33m]\u001b[0m\u001b[1;33m)\u001b[0m\u001b[1;33m\u001b[0m\u001b[1;33m\u001b[0m\u001b[0m\n\u001b[0m\u001b[0;32m     10\u001b[0m     \u001b[1;32mif\u001b[0m \u001b[0mi\u001b[0m\u001b[1;33m<\u001b[0m\u001b[0mlen\u001b[0m\u001b[1;33m(\u001b[0m\u001b[0ml2\u001b[0m\u001b[1;33m)\u001b[0m\u001b[1;33m:\u001b[0m\u001b[1;33m\u001b[0m\u001b[1;33m\u001b[0m\u001b[0m\n\u001b[0;32m     11\u001b[0m         \u001b[0mf1\u001b[0m\u001b[1;33m.\u001b[0m\u001b[0mwrite\u001b[0m\u001b[1;33m(\u001b[0m\u001b[1;33m[\u001b[0m\u001b[0mi\u001b[0m\u001b[1;33m]\u001b[0m\u001b[1;33m)\u001b[0m\u001b[1;33m\u001b[0m\u001b[1;33m\u001b[0m\u001b[0m\n",
      "\u001b[1;31mTypeError\u001b[0m: write() argument must be str, not list"
     ]
    }
   ],
   "source": [
    "f=open('b.txt')\n",
    "f1=open('h.txt')\n",
    "f2=open('c.txt','w')\n",
    "l1=f.readlines()\n",
    "l2=f1.readlines()\n",
    "l=max(len(l1),len(l2))\n",
    "for i in range(l):\n",
    "    if i<len(l1):\n",
    "        f.write([i])\n",
    "    if i<len(l2):\n",
    "        f1.write([i])\n",
    "f2.close()"
   ]
  },
  {
   "cell_type": "code",
   "execution_count": 16,
   "metadata": {},
   "outputs": [
    {
     "name": "stdout",
     "output_type": "stream",
     "text": [
      "D:\\\n",
      "D:\\MyPython\n"
     ]
    },
    {
     "data": {
      "text/plain": [
       "['!qhlogs.doc',\n",
       " '$Recycle.Bin',\n",
       " '$WinREAgent',\n",
       " 'cfrbackup-PSBMFCMH',\n",
       " 'Config.Msi',\n",
       " 'Documents and Settings',\n",
       " 'DumpStack.log.tmp',\n",
       " 'hiberfil.sys',\n",
       " 'inetpub',\n",
       " 'Insight Files',\n",
       " 'Intel',\n",
       " 'Log',\n",
       " 'logs',\n",
       " 'msdia80.dll',\n",
       " 'MSOCache',\n",
       " 'oraclexe',\n",
       " 'pagefile.sys',\n",
       " 'PerfLogs',\n",
       " 'Program Files',\n",
       " 'Program Files (x86)',\n",
       " 'ProgramData',\n",
       " 'Recovery',\n",
       " 'swapfile.sys',\n",
       " 'System Volume Information',\n",
       " 'temp',\n",
       " 'TurboC++',\n",
       " 'Users',\n",
       " 'Windows',\n",
       " 'xampp']"
      ]
     },
     "execution_count": 16,
     "metadata": {},
     "output_type": "execute_result"
    }
   ],
   "source": [
    "import os\n",
    "print(os.getcwd())\n",
    "# os.mkdir('D:\\\\MyPython')\n",
    "# os.mkdir('D:\\\\Vish')\n",
    "\n",
    "\n",
    "os.chdir('D:\\\\MyPython')\n",
    "\n",
    "# os.chdir('..')\n",
    "print(os.getcwd())\n",
    "\n",
    "os.listdir('C:')"
   ]
  },
  {
   "cell_type": "code",
   "execution_count": 3,
   "metadata": {},
   "outputs": [
    {
     "name": "stdout",
     "output_type": "stream",
     "text": [
      "D:\\Vish\n"
     ]
    }
   ],
   "source": [
    "import os\n",
    "\n",
    "# f1=open(\"D:\\\\MyPython\\\\f1.txt\",'w')\n",
    "# f2=open(\"D:\\\\MyPython\\\\f2.txt\",'w')\n",
    "# f1.close()\n",
    "# f2.close()\n",
    "os.chdir('D:\\\\Vish')\n",
    "print(os.getcwd())\n",
    "# os.remove(\"D:\\\\MyPython\\\\f1.txt\")\n",
    "# os.remove(\"D:\\\\MyPython\\\\f2.txt\")\n",
    "\n",
    "os.rmdir(\"D:\\\\MyPython\") #remove all files then remove directory"
   ]
  },
  {
   "cell_type": "code",
   "execution_count": 4,
   "metadata": {},
   "outputs": [
    {
     "name": "stdout",
     "output_type": "stream",
     "text": [
      "Writing calc.py\n"
     ]
    }
   ],
   "source": [
    "%%writefile calc.py #current directory is Vish so it will make calc py file in Vish folder \n",
    "def add(a,b):\n",
    "    ans=a+b\n",
    "    return ans\n",
    "def mul(a,b):\n",
    "    m=a*b\n",
    "    return m"
   ]
  },
  {
   "cell_type": "code",
   "execution_count": 6,
   "metadata": {},
   "outputs": [
    {
     "name": "stdout",
     "output_type": "stream",
     "text": [
      "7\n",
      "12\n"
     ]
    }
   ],
   "source": [
    "import calc as c\n",
    "print(c.add(3,4))\n",
    "print(c.mul(3,4))"
   ]
  },
  {
   "cell_type": "code",
   "execution_count": 11,
   "metadata": {},
   "outputs": [
    {
     "name": "stdout",
     "output_type": "stream",
     "text": [
      "8\n",
      "8\n",
      "15\n"
     ]
    }
   ],
   "source": [
    "from calc import add as a\n",
    "print(a(3,5))\n",
    "\n",
    "from calc import * #do not use it \n",
    "print(add(3,5))\n",
    "print(mul(3,5))"
   ]
  },
  {
   "cell_type": "code",
   "execution_count": 1,
   "metadata": {},
   "outputs": [
    {
     "name": "stdout",
     "output_type": "stream",
     "text": [
      "Writing finding.py\n"
     ]
    }
   ],
   "source": [
    "%%writefile finding.py\n",
    "def find1(a,b):\n",
    "    for i in range(0,len(a)):\n",
    "        if a[i:i+len(b)] == b:\n",
    "            return i \n",
    "    return -1"
   ]
  },
  {
   "cell_type": "code",
   "execution_count": 3,
   "metadata": {},
   "outputs": [
    {
     "name": "stdout",
     "output_type": "stream",
     "text": [
      "4\n"
     ]
    }
   ],
   "source": [
    "from finding import *\n",
    "print(find1('vishal','a'))"
   ]
  },
  {
   "cell_type": "code",
   "execution_count": 2,
   "metadata": {},
   "outputs": [
    {
     "name": "stdout",
     "output_type": "stream",
     "text": [
      "<class 'list'>\n"
     ]
    },
    {
     "ename": "AttributeError",
     "evalue": "'list' object has no attribute 'upper'",
     "output_type": "error",
     "traceback": [
      "\u001b[1;31m---------------------------------------------------------------------------\u001b[0m",
      "\u001b[1;31mAttributeError\u001b[0m                            Traceback (most recent call last)",
      "\u001b[1;32m<ipython-input-2-0e4493ab7bad>\u001b[0m in \u001b[0;36m<module>\u001b[1;34m\u001b[0m\n\u001b[0;32m      1\u001b[0m \u001b[0ml\u001b[0m\u001b[1;33m=\u001b[0m\u001b[1;33m[\u001b[0m\u001b[1;36m1\u001b[0m\u001b[1;33m,\u001b[0m\u001b[1;36m2\u001b[0m\u001b[1;33m,\u001b[0m\u001b[1;36m3\u001b[0m\u001b[1;33m]\u001b[0m\u001b[1;33m\u001b[0m\u001b[1;33m\u001b[0m\u001b[0m\n\u001b[0;32m      2\u001b[0m \u001b[0mprint\u001b[0m\u001b[1;33m(\u001b[0m\u001b[0mtype\u001b[0m\u001b[1;33m(\u001b[0m\u001b[0ml\u001b[0m\u001b[1;33m)\u001b[0m\u001b[1;33m)\u001b[0m\u001b[1;33m\u001b[0m\u001b[1;33m\u001b[0m\u001b[0m\n\u001b[1;32m----> 3\u001b[1;33m \u001b[0ml\u001b[0m\u001b[1;33m.\u001b[0m\u001b[0mupper\u001b[0m\u001b[1;33m(\u001b[0m\u001b[1;33m)\u001b[0m\u001b[1;33m\u001b[0m\u001b[1;33m\u001b[0m\u001b[0m\n\u001b[0m",
      "\u001b[1;31mAttributeError\u001b[0m: 'list' object has no attribute 'upper'"
     ]
    }
   ],
   "source": [
    "l=[1,2,3]\n",
    "print(type(l))\n",
    "l.upper()\n"
   ]
  },
  {
   "cell_type": "code",
   "execution_count": 30,
   "metadata": {},
   "outputs": [
    {
     "name": "stdout",
     "output_type": "stream",
     "text": [
      "anand\n",
      "{'name': 'anand', 'marks': 10}\n",
      "anand\n",
      "{'name': 'anand', 'marks': 100}\n",
      "{'name': 'anand'}\n",
      "False\n",
      "L\n",
      "__main__\n",
      "{'__module__': '__main__', '__init__': <function L.__init__ at 0x00000211ACD329D0>, 'set': <function L.set at 0x00000211ACD32940>, '__dict__': <attribute '__dict__' of 'L' objects>, '__weakref__': <attribute '__weakref__' of 'L' objects>, '__doc__': None}\n",
      "True\n"
     ]
    }
   ],
   "source": [
    "class L:\n",
    "    \n",
    "    def __init__(self,name,marks):\n",
    "        self.name=name\n",
    "        self.marks=marks\n",
    "    def set(self):\n",
    "        self.name=input()\n",
    "# obj1=L()\n",
    "# obj2=L()\n",
    "# print(type(obj1))\n",
    "# print(id(obj1))\n",
    "# print(id(obj2))\n",
    "\n",
    "obj=L('anand',10)\n",
    "print(obj.name)\n",
    "print(obj.__dict__)\n",
    "# obj.set()\n",
    "# print(obj.__dict__)\n",
    "print(getattr(obj,'name'))\n",
    "setattr(obj,'marks',100)\n",
    "print(obj.__dict__)\n",
    "delattr(obj,'marks')\n",
    "print(obj.__dict__)\n",
    "print(hasattr(obj,'marks'))\n",
    "print(L.__name__)\n",
    "print(L.__module__)\n",
    "print(L.__dict__)\n",
    "print(isinstance(obj,L))"
   ]
  },
  {
   "cell_type": "code",
   "execution_count": 2,
   "metadata": {},
   "outputs": [
    {
     "name": "stdout",
     "output_type": "stream",
     "text": [
      "2274936343808\n",
      "2274936343904\n",
      "1000\n"
     ]
    },
    {
     "ename": "AttributeError",
     "evalue": "'Atm' object has no attribute 'set'",
     "output_type": "error",
     "traceback": [
      "\u001b[1;31m---------------------------------------------------------------------------\u001b[0m",
      "\u001b[1;31mAttributeError\u001b[0m                            Traceback (most recent call last)",
      "\u001b[1;32m<ipython-input-2-8503dff43187>\u001b[0m in \u001b[0;36m<module>\u001b[1;34m\u001b[0m\n\u001b[0;32m     27\u001b[0m \u001b[0mprint\u001b[0m\u001b[1;33m(\u001b[0m\u001b[0mid\u001b[0m\u001b[1;33m(\u001b[0m\u001b[0mobj2\u001b[0m\u001b[1;33m)\u001b[0m\u001b[1;33m)\u001b[0m\u001b[1;33m\u001b[0m\u001b[1;33m\u001b[0m\u001b[0m\n\u001b[0;32m     28\u001b[0m \u001b[0mprint\u001b[0m\u001b[1;33m(\u001b[0m\u001b[0mobj1\u001b[0m\u001b[1;33m.\u001b[0m\u001b[0mbalance\u001b[0m\u001b[1;33m)\u001b[0m\u001b[1;33m\u001b[0m\u001b[1;33m\u001b[0m\u001b[0m\n\u001b[1;32m---> 29\u001b[1;33m \u001b[0mobj1\u001b[0m\u001b[1;33m.\u001b[0m\u001b[0mset\u001b[0m\u001b[1;33m(\u001b[0m\u001b[1;33m)\u001b[0m\u001b[1;33m\u001b[0m\u001b[1;33m\u001b[0m\u001b[0m\n\u001b[0m",
      "\u001b[1;31mAttributeError\u001b[0m: 'Atm' object has no attribute 'set'"
     ]
    }
   ],
   "source": [
    "class Atm:\n",
    "    def __init__(self,name,balance):\n",
    "        self.name=name\n",
    "        self.balance=balance\n",
    "#         self.menu()\n",
    " #         print(id(self)) -->\n",
    " #         print('help') -->\n",
    "    def menu(self):\n",
    "        a=int(input(\"1.withdraw amt \\n2.deposite amt \\n3.pin change \\n4.balance \\n5.exit\\n\"))\n",
    "        if(a==1):\n",
    "            pass\n",
    "        elif(a==2):\n",
    "            pass\n",
    "        elif(a==3):\n",
    "            pass\n",
    "        elif(a==4):\n",
    "            pass\n",
    "        elif(a==5):\n",
    "            pass\n",
    "        else:\n",
    "            print(\"invalid\")\n",
    "        \n",
    "obj1=Atm('anand',1000)\n",
    "obj2=Atm('anand',100)\n",
    "# obj1.menu()\n",
    "print(id(obj1))\n",
    "print(id(obj2))\n",
    "print(obj1.balance)\n",
    "obj1.set()"
   ]
  },
  {
   "cell_type": "code",
   "execution_count": 7,
   "metadata": {},
   "outputs": [
    {
     "name": "stdout",
     "output_type": "stream",
     "text": [
      "1.Withdraw \n",
      "2.Deposit \n",
      "3.Change pin \n",
      "4.Balance display \n",
      "5.Exit\n",
      "4\n",
      "current balance :20000\n",
      "1.Withdraw \n",
      "2.Deposit \n",
      "3.Change pin \n",
      "4.Balance display \n",
      "5.Exit\n",
      "1\n",
      "Enter the money to withdraw: 2000\n",
      "u have withdraw:2000 and current balance :18000\n",
      "1.Withdraw \n",
      "2.Deposit \n",
      "3.Change pin \n",
      "4.Balance display \n",
      "5.Exit\n",
      "4\n",
      "current balance :18000\n",
      "1.Withdraw \n",
      "2.Deposit \n",
      "3.Change pin \n",
      "4.Balance display \n",
      "5.Exit\n",
      "2\n",
      "Enter the money to deposit: 4000\n",
      "u have deposited :4000 and current balance :22000\n",
      "1.Withdraw \n",
      "2.Deposit \n",
      "3.Change pin \n",
      "4.Balance display \n",
      "5.Exit\n",
      "3\n",
      "Enter the old pin: 1234\n",
      "ENter the new pin: 2345\n"
     ]
    },
    {
     "ename": "KeyboardInterrupt",
     "evalue": "Interrupted by user",
     "output_type": "error",
     "traceback": [
      "\u001b[1;31m---------------------------------------------------------------------------\u001b[0m",
      "\u001b[1;31mKeyboardInterrupt\u001b[0m                         Traceback (most recent call last)",
      "\u001b[1;32m<ipython-input-7-e51ac28189ef>\u001b[0m in \u001b[0;36m<module>\u001b[1;34m\u001b[0m\n\u001b[0;32m     44\u001b[0m         \u001b[1;32melse\u001b[0m\u001b[1;33m:\u001b[0m\u001b[1;33m\u001b[0m\u001b[1;33m\u001b[0m\u001b[0m\n\u001b[0;32m     45\u001b[0m             \u001b[1;32mreturn\u001b[0m \u001b[1;34m\"invalid pin\"\u001b[0m\u001b[1;33m\u001b[0m\u001b[1;33m\u001b[0m\u001b[0m\n\u001b[1;32m---> 46\u001b[1;33m \u001b[0mo\u001b[0m\u001b[1;33m=\u001b[0m\u001b[0mBank\u001b[0m\u001b[1;33m(\u001b[0m\u001b[1;34m'Anand'\u001b[0m\u001b[1;33m,\u001b[0m\u001b[1;36m20000\u001b[0m\u001b[1;33m,\u001b[0m\u001b[1;36m1234\u001b[0m\u001b[1;33m)\u001b[0m\u001b[1;33m\u001b[0m\u001b[1;33m\u001b[0m\u001b[0m\n\u001b[0m",
      "\u001b[1;32m<ipython-input-7-e51ac28189ef>\u001b[0m in \u001b[0;36m__init__\u001b[1;34m(self, name, balance, pin)\u001b[0m\n\u001b[0;32m      8\u001b[0m             \u001b[1;32mif\u001b[0m\u001b[1;33m(\u001b[0m\u001b[0mself\u001b[0m\u001b[1;33m.\u001b[0m\u001b[0mmenu\u001b[0m\u001b[1;33m(\u001b[0m\u001b[1;33m)\u001b[0m\u001b[1;33m==\u001b[0m\u001b[1;32mFalse\u001b[0m\u001b[1;33m)\u001b[0m\u001b[1;33m:\u001b[0m\u001b[1;33m\u001b[0m\u001b[1;33m\u001b[0m\u001b[0m\n\u001b[0;32m      9\u001b[0m                 \u001b[1;32mbreak\u001b[0m\u001b[1;33m\u001b[0m\u001b[1;33m\u001b[0m\u001b[0m\n\u001b[1;32m---> 10\u001b[1;33m             \u001b[0mself\u001b[0m\u001b[1;33m.\u001b[0m\u001b[0mmenu\u001b[0m\u001b[1;33m(\u001b[0m\u001b[1;33m)\u001b[0m\u001b[1;33m\u001b[0m\u001b[1;33m\u001b[0m\u001b[0m\n\u001b[0m\u001b[0;32m     11\u001b[0m     \u001b[1;32mdef\u001b[0m \u001b[0mmenu\u001b[0m\u001b[1;33m(\u001b[0m\u001b[0mself\u001b[0m\u001b[1;33m)\u001b[0m\u001b[1;33m:\u001b[0m\u001b[1;33m\u001b[0m\u001b[1;33m\u001b[0m\u001b[0m\n\u001b[0;32m     12\u001b[0m         \u001b[0ma\u001b[0m\u001b[1;33m=\u001b[0m\u001b[0mint\u001b[0m\u001b[1;33m(\u001b[0m\u001b[0minput\u001b[0m\u001b[1;33m(\u001b[0m\u001b[1;34m\"1.Withdraw \\n2.Deposit \\n3.Change pin \\n4.Balance display \\n5.Exit\\n\"\u001b[0m\u001b[1;33m)\u001b[0m\u001b[1;33m)\u001b[0m\u001b[1;33m\u001b[0m\u001b[1;33m\u001b[0m\u001b[0m\n",
      "\u001b[1;32m<ipython-input-7-e51ac28189ef>\u001b[0m in \u001b[0;36mmenu\u001b[1;34m(self)\u001b[0m\n\u001b[0;32m     10\u001b[0m             \u001b[0mself\u001b[0m\u001b[1;33m.\u001b[0m\u001b[0mmenu\u001b[0m\u001b[1;33m(\u001b[0m\u001b[1;33m)\u001b[0m\u001b[1;33m\u001b[0m\u001b[1;33m\u001b[0m\u001b[0m\n\u001b[0;32m     11\u001b[0m     \u001b[1;32mdef\u001b[0m \u001b[0mmenu\u001b[0m\u001b[1;33m(\u001b[0m\u001b[0mself\u001b[0m\u001b[1;33m)\u001b[0m\u001b[1;33m:\u001b[0m\u001b[1;33m\u001b[0m\u001b[1;33m\u001b[0m\u001b[0m\n\u001b[1;32m---> 12\u001b[1;33m         \u001b[0ma\u001b[0m\u001b[1;33m=\u001b[0m\u001b[0mint\u001b[0m\u001b[1;33m(\u001b[0m\u001b[0minput\u001b[0m\u001b[1;33m(\u001b[0m\u001b[1;34m\"1.Withdraw \\n2.Deposit \\n3.Change pin \\n4.Balance display \\n5.Exit\\n\"\u001b[0m\u001b[1;33m)\u001b[0m\u001b[1;33m)\u001b[0m\u001b[1;33m\u001b[0m\u001b[1;33m\u001b[0m\u001b[0m\n\u001b[0m\u001b[0;32m     13\u001b[0m         \u001b[1;32mif\u001b[0m \u001b[0ma\u001b[0m\u001b[1;33m==\u001b[0m\u001b[1;36m1\u001b[0m\u001b[1;33m:\u001b[0m\u001b[1;33m\u001b[0m\u001b[1;33m\u001b[0m\u001b[0m\n\u001b[0;32m     14\u001b[0m             \u001b[0mm\u001b[0m\u001b[1;33m=\u001b[0m\u001b[0mint\u001b[0m\u001b[1;33m(\u001b[0m\u001b[0minput\u001b[0m\u001b[1;33m(\u001b[0m\u001b[1;34m\"Enter the money to withdraw: \"\u001b[0m\u001b[1;33m)\u001b[0m\u001b[1;33m)\u001b[0m\u001b[1;33m\u001b[0m\u001b[1;33m\u001b[0m\u001b[0m\n",
      "\u001b[1;32mC:\\ProgramData\\Anaconda3\\lib\\site-packages\\ipykernel\\kernelbase.py\u001b[0m in \u001b[0;36mraw_input\u001b[1;34m(self, prompt)\u001b[0m\n\u001b[0;32m    858\u001b[0m                 \u001b[1;34m\"raw_input was called, but this frontend does not support input requests.\"\u001b[0m\u001b[1;33m\u001b[0m\u001b[1;33m\u001b[0m\u001b[0m\n\u001b[0;32m    859\u001b[0m             )\n\u001b[1;32m--> 860\u001b[1;33m         return self._input_request(str(prompt),\n\u001b[0m\u001b[0;32m    861\u001b[0m             \u001b[0mself\u001b[0m\u001b[1;33m.\u001b[0m\u001b[0m_parent_ident\u001b[0m\u001b[1;33m,\u001b[0m\u001b[1;33m\u001b[0m\u001b[1;33m\u001b[0m\u001b[0m\n\u001b[0;32m    862\u001b[0m             \u001b[0mself\u001b[0m\u001b[1;33m.\u001b[0m\u001b[0m_parent_header\u001b[0m\u001b[1;33m,\u001b[0m\u001b[1;33m\u001b[0m\u001b[1;33m\u001b[0m\u001b[0m\n",
      "\u001b[1;32mC:\\ProgramData\\Anaconda3\\lib\\site-packages\\ipykernel\\kernelbase.py\u001b[0m in \u001b[0;36m_input_request\u001b[1;34m(self, prompt, ident, parent, password)\u001b[0m\n\u001b[0;32m    902\u001b[0m             \u001b[1;32mexcept\u001b[0m \u001b[0mKeyboardInterrupt\u001b[0m\u001b[1;33m:\u001b[0m\u001b[1;33m\u001b[0m\u001b[1;33m\u001b[0m\u001b[0m\n\u001b[0;32m    903\u001b[0m                 \u001b[1;31m# re-raise KeyboardInterrupt, to truncate traceback\u001b[0m\u001b[1;33m\u001b[0m\u001b[1;33m\u001b[0m\u001b[1;33m\u001b[0m\u001b[0m\n\u001b[1;32m--> 904\u001b[1;33m                 \u001b[1;32mraise\u001b[0m \u001b[0mKeyboardInterrupt\u001b[0m\u001b[1;33m(\u001b[0m\u001b[1;34m\"Interrupted by user\"\u001b[0m\u001b[1;33m)\u001b[0m \u001b[1;32mfrom\u001b[0m \u001b[1;32mNone\u001b[0m\u001b[1;33m\u001b[0m\u001b[1;33m\u001b[0m\u001b[0m\n\u001b[0m\u001b[0;32m    905\u001b[0m             \u001b[1;32mexcept\u001b[0m \u001b[0mException\u001b[0m \u001b[1;32mas\u001b[0m \u001b[0me\u001b[0m\u001b[1;33m:\u001b[0m\u001b[1;33m\u001b[0m\u001b[1;33m\u001b[0m\u001b[0m\n\u001b[0;32m    906\u001b[0m                 \u001b[0mself\u001b[0m\u001b[1;33m.\u001b[0m\u001b[0mlog\u001b[0m\u001b[1;33m.\u001b[0m\u001b[0mwarning\u001b[0m\u001b[1;33m(\u001b[0m\u001b[1;34m\"Invalid Message:\"\u001b[0m\u001b[1;33m,\u001b[0m \u001b[0mexc_info\u001b[0m\u001b[1;33m=\u001b[0m\u001b[1;32mTrue\u001b[0m\u001b[1;33m)\u001b[0m\u001b[1;33m\u001b[0m\u001b[1;33m\u001b[0m\u001b[0m\n",
      "\u001b[1;31mKeyboardInterrupt\u001b[0m: Interrupted by user"
     ]
    }
   ],
   "source": [
    "class Bank:\n",
    "    def __init__(self,name,balance,pin):\n",
    "        self.name=name\n",
    "        self.balance=balance\n",
    "        self.pin=pin\n",
    "        \n",
    "        while(True):\n",
    "            if(self.menu()==False):\n",
    "                break\n",
    "            self.menu()\n",
    "    def menu(self):\n",
    "        a=int(input(\"1.Withdraw \\n2.Deposit \\n3.Change pin \\n4.Balance display \\n5.Exit\\n\"))\n",
    "        if a==1:\n",
    "            m=int(input(\"Enter the money to withdraw: \"))\n",
    "            self.withdraw(m)\n",
    "        elif a==2:\n",
    "            d=int(input(\"Enter the money to deposit: \"))\n",
    "            self.deposit(d)\n",
    "        elif a==3:\n",
    "            p=int(input(\"Enter the old pin: \"))\n",
    "            self.Changepin(p)\n",
    "        elif a==4:\n",
    "            print(f\"current balance :{self.balance}\")\n",
    "        elif a==5:\n",
    "            return False\n",
    "    \n",
    "    def withdraw(self,money):\n",
    "        if money>self.balance:\n",
    "            print(\"insufficient\")\n",
    "        else:\n",
    "            self.balance-=money\n",
    "            print(f\"u have withdraw:{money} and current balance :{self.balance}\")\n",
    "            \n",
    "    def deposit(self,money):\n",
    "            self.balance+=money\n",
    "            print(f\"u have deposited :{money} and current balance :{self.balance}\")\n",
    "    \n",
    "    def Changepin(self,p):\n",
    "        \n",
    "        if self.pin==p:\n",
    "            x=int(input(\"ENter the new pin: \"))\n",
    "            self.pin=x\n",
    "            print(\"pin changed\")\n",
    "        else:\n",
    "            print(\"invalid pin\")\n",
    "o=Bank('Anand',20000,1234)\n"
   ]
  },
  {
   "cell_type": "code",
   "execution_count": 17,
   "metadata": {},
   "outputs": [
    {
     "name": "stdout",
     "output_type": "stream",
     "text": [
      "1\n",
      "[12, 2, 3, 7, 5, 6]\n",
      "[12, 2, 3, 7, 5, 6, 0]\n",
      "0\n",
      "12\n",
      "{'l': [2, 3, 7, 5, 6]}\n"
     ]
    }
   ],
   "source": [
    "class DS:\n",
    "    def __init__(self,l):\n",
    "        self.l=l\n",
    "    def shift(self):\n",
    "        if(len(self.l)==0):\n",
    "            return \"empty\"\n",
    "        else:\n",
    "            a=self.l[0]\n",
    "            self.l.remove(self.l[0])\n",
    "            return a\n",
    "    def unshift(self,x):\n",
    "        self.l.insert(0,x)\n",
    "        return self.l\n",
    "    def push(self,x):\n",
    "        self.l.append(x)\n",
    "        return self.l\n",
    "    def pop(self):\n",
    "        if(len(self.l)==0):\n",
    "            return \"empty\"\n",
    "        else:\n",
    "            a=self.l[-1]\n",
    "            self.l.remove(self.l[-1])\n",
    "            return a\n",
    "    def remove(self):\n",
    "        s=max(self.l)\n",
    "        self.l.remove(s)\n",
    "        return s\n",
    "o=DS([1,2,3,7,5,6])\n",
    "print(o.shift())\n",
    "print(o.unshift(12))\n",
    "print(o.push(0))\n",
    "print(o.pop())\n",
    "print(o.remove())\n",
    "print(o.__dict__)"
   ]
  },
  {
   "cell_type": "code",
   "execution_count": 19,
   "metadata": {},
   "outputs": [
    {
     "name": "stdout",
     "output_type": "stream",
     "text": [
      "170\n"
     ]
    }
   ],
   "source": [
    "class Pizza:\n",
    "    def __init__(self,size,toppings,cheese):\n",
    "        self.size=size\n",
    "        self.toppings=toppings\n",
    "        self.cheese=cheese\n",
    "    def price(self):\n",
    "        self.cost=0\n",
    "        if self.size=='small':\n",
    "            self.cost+=50\n",
    "        elif self.size=='medium':\n",
    "            self.cost+=100\n",
    "        elif self.size=='large':\n",
    "            self.cost+=200\n",
    "        topping_1=['corn','tomato','onion','capsicum']\n",
    "        topping_2=['mushroom','olives','broccoli']\n",
    "        for i in self.toppings:\n",
    "            if i in topping_1:\n",
    "                self.cost+=20\n",
    "            else:\n",
    "                self.cost+=50\n",
    "        \n",
    "        self.cost+=len(self.cheese)*50\n",
    "        return self.cost\n",
    "class Order:\n",
    "    def __init__(self,name,id1):\n",
    "        self.name=name\n",
    "        self.id1=id1\n",
    "        self.toppings=[]\n",
    "        self.chesse=[]\n",
    "    def order(self):\n",
    "        self.toppings=['corn']\n",
    "        self.cheese=['feta','chesar']\n",
    "        self.o=Pizza('small',self.toppings,self.cheese)\n",
    "    def bill(self):\n",
    "        print(self.o.price())\n",
    "a=Order('Anand',1)\n",
    "a.order()\n",
    "a.bill()"
   ]
  },
  {
   "cell_type": "code",
   "execution_count": 2,
   "metadata": {},
   "outputs": [
    {
     "name": "stdout",
     "output_type": "stream",
     "text": [
      "anand\n",
      "anand\n",
      "anandanana\n",
      "anandanandanana\n",
      "anandanandanana\n"
     ]
    }
   ],
   "source": [
    "class A:\n",
    "    name='anand'\n",
    "    def set_a(self,name):\n",
    "        self.name+=name\n",
    "        A.name+=self.name\n",
    "o=A()\n",
    "print(o.name)\n",
    "print(A.name)\n",
    "o.set_a('anana')\n",
    "print(o.name)\n",
    "print(A.name)\n",
    "o1=A()\n",
    "print(o1.name)"
   ]
  },
  {
   "cell_type": "code",
   "execution_count": 7,
   "metadata": {},
   "outputs": [
    {
     "ename": "ModuleNotFoundError",
     "evalue": "No module named 'mathi'",
     "output_type": "error",
     "traceback": [
      "\u001b[1;31m---------------------------------------------------------------------------\u001b[0m",
      "\u001b[1;31mModuleNotFoundError\u001b[0m                       Traceback (most recent call last)",
      "\u001b[1;32m<ipython-input-7-5d3d350ff663>\u001b[0m in \u001b[0;36m<module>\u001b[1;34m\u001b[0m\n\u001b[1;32m----> 1\u001b[1;33m \u001b[1;32mimport\u001b[0m \u001b[0mmathi\u001b[0m\u001b[1;33m\u001b[0m\u001b[1;33m\u001b[0m\u001b[0m\n\u001b[0m\u001b[0;32m      2\u001b[0m \u001b[0mmath\u001b[0m\u001b[1;33m.\u001b[0m\u001b[0mexp\u001b[0m\u001b[1;33m(\u001b[0m\u001b[1;36m100\u001b[0m\u001b[1;33m)\u001b[0m\u001b[1;33m\u001b[0m\u001b[1;33m\u001b[0m\u001b[0m\n",
      "\u001b[1;31mModuleNotFoundError\u001b[0m: No module named 'mathi'"
     ]
    }
   ],
   "source": [
    "import mathi\n",
    "math.exp(100)"
   ]
  },
  {
   "cell_type": "code",
   "execution_count": 39,
   "metadata": {},
   "outputs": [
    {
     "name": "stdout",
     "output_type": "stream",
     "text": [
      "list index out of range\n"
     ]
    }
   ],
   "source": [
    "try:\n",
    "    m=5\n",
    "    f=open('sam.txt','w')\n",
    "#     print(f.read())\n",
    "#     print(m)\n",
    "#     print(5/0)\n",
    "    l=[1,3,3,4]\n",
    "    l[100]\n",
    "except FileNotFoundError:\n",
    "    print(\"file \")\n",
    "except NameError:\n",
    "    print('name')\n",
    "except ZeroDivisionError:\n",
    "    print('devis')\n",
    "except Exception as e:\n",
    "    print(e)"
   ]
  },
  {
   "cell_type": "code",
   "execution_count": 44,
   "metadata": {},
   "outputs": [
    {
     "name": "stdout",
     "output_type": "stream",
     "text": [
      "34\n"
     ]
    }
   ],
   "source": [
    "n=int(input())\n",
    "assert n>0,'enter the valid no.'\n"
   ]
  },
  {
   "cell_type": "code",
   "execution_count": 45,
   "metadata": {},
   "outputs": [
    {
     "name": "stdout",
     "output_type": "stream",
     "text": [
      "Paisa nahi h \n"
     ]
    }
   ],
   "source": [
    "m=5000\n",
    "w=9000\n",
    "try:\n",
    "    b=m-w\n",
    "    if b<0:\n",
    "        raise Exception('Paisa nahi h ')\n",
    "except Exception as e:\n",
    "    print(e)"
   ]
  },
  {
   "cell_type": "code",
   "execution_count": 52,
   "metadata": {},
   "outputs": [
    {
     "name": "stdout",
     "output_type": "stream",
     "text": [
      "roll: 1,name: anand,marks: {'ps': 24, 'fsd': 23, 'pyth': 12}\n",
      "roll: 1,name: anand,marks: {'ps': 24, 'fsd': 23, 'pyth': 12, 'de': 24}\n",
      "roll: 1,name: anand,marks: {'fsd': 23, 'pyth': 12, 'de': 24}\n",
      "59\n"
     ]
    }
   ],
   "source": [
    "class Student:\n",
    "    def __init__(self,roll,name,marks):\n",
    "        self.roll=roll\n",
    "        self.name=name\n",
    "        self.marks=marks\n",
    "    def display(self):\n",
    "        print(f\"roll: {self.roll},name: {self.name},marks: {self.marks}\")\n",
    "    def sets(self,subject,marks):\n",
    "              self.marks[subject]=marks\n",
    "    def delete(self,subject):\n",
    "              self.marks.pop(subject)\n",
    "    def total(self,marks):\n",
    "        sum=0\n",
    "        for i in self.marks.values():\n",
    "            sum+=i\n",
    "        return sum\n",
    "d={'ps':24,'fsd':23,'pyth':12}\n",
    "o=Student(1,'anand',d)\n",
    "o.display()\n",
    "o.sets('de',24)\n",
    "o.display()\n",
    "o.delete('ps')\n",
    "o.display()\n",
    "print(o.total(d))"
   ]
  },
  {
   "cell_type": "code",
   "execution_count": null,
   "metadata": {},
   "outputs": [],
   "source": []
  }
 ],
 "metadata": {
  "kernelspec": {
   "display_name": "Python 3",
   "language": "python",
   "name": "python3"
  }
 },
 "nbformat": 4,
 "nbformat_minor": 4
}
