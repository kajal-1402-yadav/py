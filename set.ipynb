{
 "cells": [
  {
   "cell_type": "code",
   "execution_count": 20,
   "metadata": {},
   "outputs": [
    {
     "name": "stdout",
     "output_type": "stream",
     "text": [
      "<class 'set'>\n",
      "<class 'dict'>\n",
      "{8, 9, 19, 7}\n",
      "{7, 8, 9, 19, 's'}\n",
      "{(1, 2), 7, 8, 9, 19, 's'}\n",
      "{'h', (1, 2), 'v', 7, 8, 9, 10, 11, 12, 'l', 19, 'a', 's', 'i'}\n"
     ]
    }
   ],
   "source": [
    "s=set()\n",
    "print(type(s))\n",
    "s={}\n",
    "print(type(s))\n",
    "s={7,8,9,19,19,7}\n",
    "print(s)#unique elements,unorder\n",
    "#print(s[0])#TypeError: 'set' object is not subscriptable\n",
    "#s={[1,1],[1,2],[1,2]}#TypeError: unhashable type: 'list'\n",
    "s.add('s')\n",
    "#mutable\n",
    "print(s)\n",
    "s.add((1,2))\n",
    "print(s)\n",
    "#s.add([1,2])#TypeError: unhashable type: 'list'\n",
    "s.update('vishal')#iterable object\n",
    "s.update([10,11,12])\n",
    "print(s)\n"
   ]
  },
  {
   "cell_type": "code",
   "execution_count": 35,
   "metadata": {},
   "outputs": [
    {
     "name": "stdout",
     "output_type": "stream",
     "text": [
      "{2, 4, 13, 56}\n",
      "{2, 4, 13}\n",
      "{2, 13}\n",
      "{2, 13}\n",
      "set()\n",
      "True\n"
     ]
    }
   ],
   "source": [
    "s={1,13,56,2,4}\n",
    "#del s[0]#TypeError: 'set' object doesn't support item deletion\n",
    "#del s\n",
    "#print(s)#NameError: name 's' is not defined\n",
    "s.pop()#delete random element\n",
    "print(s)\n",
    "s.remove(56)\n",
    "print(s)\n",
    "#s.remove(7)#KeyError: 7\n",
    "#print(s)\n",
    "s.discard(4)\n",
    "print(s)\n",
    "s.discard(7)\n",
    "print(s)\n",
    "s.clear()#set()\n",
    "print(s)"
   ]
  },
  {
   "cell_type": "code",
   "execution_count": 40,
   "metadata": {},
   "outputs": [
    {
     "name": "stdout",
     "output_type": "stream",
     "text": [
      "True\n",
      "False\n",
      "1\n",
      "2\n",
      "3\n",
      "23\n",
      "4\n",
      "23\n",
      "1\n",
      "[1, 2, 3, 23]\n"
     ]
    }
   ],
   "source": [
    "s={1,23,2,3}\n",
    "print(1 in s)\n",
    "print(6 in s)\n",
    "for i in s:\n",
    "    print(i)#no order\n",
    "print(len(s))\n",
    "print(max(s))\n",
    "print(min(s))\n",
    "print(sorted(s))\n"
   ]
  },
  {
   "cell_type": "code",
   "execution_count": 59,
   "metadata": {},
   "outputs": [
    {
     "name": "stdout",
     "output_type": "stream",
     "text": [
      "{1, 2, 3, 4, 5, 6, 7, 11, 12, 14, 15}\n",
      "{1, 2, 3, 4, 5, 6, 7, 11, 12, 14, 15}\n",
      "{1, 2, 3, 4}\n",
      "{1, 2, 3, 4}\n",
      "None\n",
      "{1, 2, 3, 4, 5, 6, 7, 11, 12, 14, 15}\n"
     ]
    }
   ],
   "source": [
    "s1={1,2,3,4,5,6,7}\n",
    "s2={1,2,3,4,11,12,14,15}\n",
    "print(s1|s2)#union\n",
    "print(s1.union(s2))\n",
    "print(s1&s2)#intersection\n",
    "print(s1.intersection(s2))\n",
    "print(s1.update(s2))\n",
    "print(s1)\n"
   ]
  },
  {
   "cell_type": "code",
   "execution_count": 60,
   "metadata": {},
   "outputs": [
    {
     "name": "stdout",
     "output_type": "stream",
     "text": [
      "{5, 6, 7}\n",
      "{11, 12, 14, 15}\n",
      "{5, 6, 7, 11, 12, 14, 15}\n"
     ]
    }
   ],
   "source": [
    "s1={1,2,3,4,5,6,7}\n",
    "s2={1,2,3,4,11,12,14,15}\n",
    "print(s1-s2)\n",
    "print(s2-s1)\n",
    "print(s1^s2)#symmetric difference\n"
   ]
  },
  {
   "cell_type": "code",
   "execution_count": 70,
   "metadata": {},
   "outputs": [
    {
     "name": "stdout",
     "output_type": "stream",
     "text": [
      "True\n",
      "False\n",
      "False\n",
      "True\n",
      "False\n",
      "False\n"
     ]
    }
   ],
   "source": [
    "s1={1,2,3,4,5}\n",
    "s2={11,12,14,15}\n",
    "print(s1.isdisjoint(s2))\n",
    "print(s1.issubset(s2))\n",
    "print(s1.issuperset(s2))\n",
    "print(s2.isdisjoint(s1))\n",
    "print(s2.issubset(s1))\n",
    "print(s2.issuperset(s1))"
   ]
  },
  {
   "cell_type": "code",
   "execution_count": 76,
   "metadata": {},
   "outputs": [
    {
     "name": "stdout",
     "output_type": "stream",
     "text": [
      "frozenset({1, 2, 3, 5, 9})\n",
      "{1, 2, 3, frozenset({4, 5, 6})}\n"
     ]
    }
   ],
   "source": [
    "fs1=frozenset([1,2,3])\n",
    "fs2=frozenset([3,9,5])\n",
    "print(fs1|fs2)\n",
    "s={1,2,3}\n",
    "#s.add({4,5,6})\n",
    "s.add(frozenset({4,5,6}))\n",
    "print(s)"
   ]
  },
  {
   "cell_type": "code",
   "execution_count": null,
   "metadata": {},
   "outputs": [],
   "source": []
  },
  {
   "cell_type": "code",
   "execution_count": null,
   "metadata": {},
   "outputs": [],
   "source": []
  },
  {
   "cell_type": "code",
   "execution_count": null,
   "metadata": {},
   "outputs": [],
   "source": []
  }
 ],
 "metadata": {
  "kernelspec": {
   "display_name": "Python 3",
   "language": "python",
   "name": "python3"
  },
  "language_info": {
   "codemirror_mode": {
    "name": "ipython",
    "version": 3
   },
   "file_extension": ".py",
   "mimetype": "text/x-python",
   "name": "python",
   "nbconvert_exporter": "python",
   "pygments_lexer": "ipython3",
   "version": "3.8.5"
  }
 },
 "nbformat": 4,
 "nbformat_minor": 4
}
