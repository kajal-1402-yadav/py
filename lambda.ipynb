{
 "cells": [
  {
   "cell_type": "code",
   "execution_count": 5,
   "metadata": {},
   "outputs": [
    {
     "name": "stdout",
     "output_type": "stream",
     "text": [
      "4\n",
      "9\n",
      "4\n"
     ]
    }
   ],
   "source": [
    "a=lambda x:x**2\n",
    "print(a(2))\n",
    "f=lambda a,b=2:a+b\n",
    "print(f(3,6))\n",
    "print(f(2))\n"
   ]
  },
  {
   "cell_type": "code",
   "execution_count": 11,
   "metadata": {},
   "outputs": [
    {
     "name": "stdout",
     "output_type": "stream",
     "text": [
      "1,2,3\n",
      "[1, 8, 27]\n",
      "1,2,3\n",
      "[1, 8, 27]\n"
     ]
    }
   ],
   "source": [
    "l=list(eval(input()))\n",
    "l1=[]\n",
    "for i in l:\n",
    "    a=lambda l:l**3\n",
    "    l1.append(a(i))\n",
    "print(l1)    \n",
    "\n",
    "#or\n",
    "l=list(eval(input()))\n",
    "a=lambda x:x**3\n",
    "for i in range(0,len(l)):\n",
    "    l[i]=a(l[i])\n",
    "print(l)    \n"
   ]
  },
  {
   "cell_type": "code",
   "execution_count": 13,
   "metadata": {},
   "outputs": [
    {
     "name": "stdout",
     "output_type": "stream",
     "text": [
      "[1, 4, 9, 16, 25]\n"
     ]
    }
   ],
   "source": [
    "l=[1,2,3,4,5]\n",
    "double=list(map(lambda x:x**2,l))\n",
    "print(double)"
   ]
  },
  {
   "cell_type": "code",
   "execution_count": 19,
   "metadata": {},
   "outputs": [
    {
     "name": "stdout",
     "output_type": "stream",
     "text": [
      "['odd', 'even', 'odd', 'even', 'odd']\n",
      "['odd', 'even', 'odd', 'even', 'odd']\n"
     ]
    }
   ],
   "source": [
    "l=[1,2,3,4,5]\n",
    "l1=[]\n",
    "for i in l:\n",
    "    a=lambda x:'even' if i%2==0 else 'odd'\n",
    "    l1.append(a(i))\n",
    "print(l1)\n",
    "\n",
    "#or\n",
    "\n",
    "l=[1,2,3,4,5]\n",
    "double=list(map(lambda x:'even' if x%2==0 else 'odd',l))\n",
    "print(double)"
   ]
  },
  {
   "cell_type": "code",
   "execution_count": 24,
   "metadata": {},
   "outputs": [
    {
     "name": "stdout",
     "output_type": "stream",
     "text": [
      "[2, 4]\n"
     ]
    }
   ],
   "source": [
    "l=[1,2,3,4,5]\n",
    "double=list(filter(lambda x:x%2==0,l))\n",
    "print(double)"
   ]
  },
  {
   "cell_type": "code",
   "execution_count": 30,
   "metadata": {},
   "outputs": [
    {
     "name": "stdout",
     "output_type": "stream",
     "text": [
      "['apple', 'ant']\n"
     ]
    }
   ],
   "source": [
    "l=['mango','apple','orange','ant','ox']\n",
    "double=list(filter(lambda x:x.startswith('a'),l))\n",
    "print(double)    "
   ]
  },
  {
   "cell_type": "code",
   "execution_count": 31,
   "metadata": {},
   "outputs": [
    {
     "name": "stdout",
     "output_type": "stream",
     "text": [
      "120\n"
     ]
    }
   ],
   "source": [
    "from functools import reduce\n",
    "l=[1,2,3,4,5]\n",
    "sum=reduce(lambda x,y:x*y,l)\n",
    "print(sum)"
   ]
  },
  {
   "cell_type": "code",
   "execution_count": 34,
   "metadata": {},
   "outputs": [
    {
     "name": "stdout",
     "output_type": "stream",
     "text": [
      "{'I': 1, 'V': 5, 'X': 10, 'L': 50, 'C': 100, 'D': 500, 'M': 1000}\n"
     ]
    }
   ],
   "source": [
    "d={'I':1,'V':5,'X':10,'L':50,'C':100,'D':500,'M':1000}     \n",
    "l1=sorted(d.values())\n",
    "d1={}\n",
    "for i in l1:\n",
    "    for j in d:\n",
    "        if d[j]==i:\n",
    "            d1[j]=i\n",
    "print(d1)           "
   ]
  },
  {
   "cell_type": "code",
   "execution_count": 33,
   "metadata": {},
   "outputs": [
    {
     "name": "stdout",
     "output_type": "stream",
     "text": [
      "[('I', 1), ('V', 5), ('X', 10), ('L', 50), ('C', 100), ('D', 500), ('M', 1000)]\n"
     ]
    }
   ],
   "source": [
    "d={'I':1,'V':5,'X':10,'L':50,'C':100,'D':500,'M':1000} \n",
    "l=list(d.items())\n",
    "l.sort(key=lambda x:x[i])\n",
    "print(l)"
   ]
  },
  {
   "cell_type": "code",
   "execution_count": 9,
   "metadata": {},
   "outputs": [
    {
     "name": "stdout",
     "output_type": "stream",
     "text": [
      "[2, 5, 7, 8, 9, -10, -3, -1]\n"
     ]
    }
   ],
   "source": [
    "l=[-1,2,-3,5,7,8,9,-10]\n",
    "l.sort(key=lambda i:0 if i==0 else -1/i)\n",
    "print(l)    "
   ]
  },
  {
   "cell_type": "code",
   "execution_count": 24,
   "metadata": {},
   "outputs": [
    {
     "name": "stdout",
     "output_type": "stream",
     "text": [
      "Enter any string:ADFGBCNDACND\n",
      "Enter substring:ABC\n",
      "{'A': 1, 'B': 1, 'C': 1}\n",
      "{'A': 2, 'B': 1, 'C': 2}\n",
      "3\n",
      "5\n"
     ]
    }
   ],
   "source": [
    "s=input(\"Enter any string:\")\n",
    "t=input(\"Enter substring:\")\n",
    "need={}\n",
    "have={}\n",
    "for i in t:\n",
    "    need[i]=need.get(i,0)+1\n",
    "print(need)    \n",
    "s1=sum(list(need.values()))\n",
    " "
   ]
  },
  {
   "cell_type": "code",
   "execution_count": null,
   "metadata": {},
   "outputs": [],
   "source": []
  },
  {
   "cell_type": "code",
   "execution_count": null,
   "metadata": {},
   "outputs": [],
   "source": []
  },
  {
   "cell_type": "code",
   "execution_count": null,
   "metadata": {},
   "outputs": [],
   "source": []
  }
 ],
 "metadata": {
  "kernelspec": {
   "display_name": "Python 3",
   "language": "python",
   "name": "python3"
  },
  "language_info": {
   "codemirror_mode": {
    "name": "ipython",
    "version": 3
   },
   "file_extension": ".py",
   "mimetype": "text/x-python",
   "name": "python",
   "nbconvert_exporter": "python",
   "pygments_lexer": "ipython3",
   "version": "3.8.5"
  }
 },
 "nbformat": 4,
 "nbformat_minor": 4
}
